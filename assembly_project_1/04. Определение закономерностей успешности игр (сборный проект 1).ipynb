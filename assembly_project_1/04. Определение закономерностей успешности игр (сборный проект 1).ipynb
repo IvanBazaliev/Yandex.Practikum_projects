{
 "cells": [
  {
   "cell_type": "markdown",
   "metadata": {},
   "source": [
    "### Определение закономерностей успешности игр\n",
    "___\n",
    "##### Из открытых источников доступны исторические данные о продажах игр, оценки пользователей и экспертов, жанры и платформы (например, Xbox или PlayStation). Необходимо выявить определяющие успешность игры закономерности. Это позволит сделать ставку на потенциально популярный продукт и спланировать рекламные кампании.\n",
    "___\n",
    "###### Данное исследование разделим на несколько шагов. \n",
    "\n",
    "#### Шаг 1. Изучение общей информации: \n",
    "* [1. Загрузка библиотек, открытие и сохранение файла](#1-bullet)\n",
    "* [2. Получение и рассмотрение общей информации о таблице](#2-bullet)\n",
    "\n",
    "#### Шаг 2. Подготовка даных:\n",
    "* [1. Преобразование названий столбцов](#4-bullet)\n",
    "* [2. Нахождение и ликвидация пропусков](#5-bullet)\n",
    "* [3. Преобразование данных в нужные типы](#6-bullet)\n",
    "* [4. Подсчет суммарных продаж во всех регионах](#7-bullet)\n",
    "\n",
    "#### Шаг 3. Исследовательский анализ данных:\n",
    "* [1. Изучение выпуска количества игр в разные годы](#8-bullet)\n",
    "* [2. Как менялись продажи по платформам в зависимости от года?](#9-bullet)\n",
    "* [3. Рассмотрение выбранного актуального периода](#10-bullet)\n",
    "* [4. Изучение глобальных продаж игр в разбивке по платформам](#11-bullet)\n",
    "* [5. Изучение влияния отзывов критиков и пользователей на продажи](#12-bullet)\n",
    "* [6. Общее распределение игр по жанрам](#13-bullet)\n",
    "\n",
    "#### Шаг 4. Портрет пользователя каждого региона:\n",
    "* [1. Самые популярные платформы (топ-5)](#14-bullet)\n",
    "* [2. Самые популярные жанры (топ-5)](#15-bullet)\n",
    "* [3. Влияние рейтинга ESRB на продажи в регионе](#16-bullet)\n",
    "\n",
    "#### Шаг 5. Проверка гипотез:\n",
    "* [1. Средние пользовательские рейтинги платформ Xbox One и PC одинаковые](#17-bullet)\n",
    "* [2. Средние пользовательские рейтинги жанров Action и Sports разные](#18-bullet)\n",
    "\n",
    "#### Шаг 6. Общий вывод:\n",
    "* [1. Общий вывод](#19-bullet)"
   ]
  },
  {
   "cell_type": "markdown",
   "metadata": {},
   "source": [
    "### Шаг 1. Откроем файлы с данными и изучим общую информацию"
   ]
  },
  {
   "cell_type": "markdown",
   "metadata": {},
   "source": [
    "<a id='1-bullet'></a>"
   ]
  },
  {
   "cell_type": "code",
   "execution_count": 1,
   "metadata": {},
   "outputs": [],
   "source": [
    "# импортируем необходимые библиотеки\n",
    "import pandas as pd \n",
    "import matplotlib.pyplot as plt\n",
    "import numpy as np\n",
    "from scipy import stats as st\n",
    "import warnings\n",
    "warnings.filterwarnings('ignore')\n",
    "\n",
    "# открываем и сохраняем файлы\n",
    "data = pd.read_csv('/datasets/games.csv', sep=',')"
   ]
  },
  {
   "cell_type": "markdown",
   "metadata": {},
   "source": [
    "<a id='2-bullet'></a>"
   ]
  },
  {
   "cell_type": "code",
   "execution_count": 2,
   "metadata": {},
   "outputs": [
    {
     "name": "stdout",
     "output_type": "stream",
     "text": [
      "<class 'pandas.core.frame.DataFrame'>\n",
      "RangeIndex: 16715 entries, 0 to 16714\n",
      "Data columns (total 11 columns):\n",
      "Name               16713 non-null object\n",
      "Platform           16715 non-null object\n",
      "Year_of_Release    16446 non-null float64\n",
      "Genre              16713 non-null object\n",
      "NA_sales           16715 non-null float64\n",
      "EU_sales           16715 non-null float64\n",
      "JP_sales           16715 non-null float64\n",
      "Other_sales        16715 non-null float64\n",
      "Critic_Score       8137 non-null float64\n",
      "User_Score         10014 non-null object\n",
      "Rating             9949 non-null object\n",
      "dtypes: float64(6), object(5)\n",
      "memory usage: 1.4+ MB\n"
     ]
    },
    {
     "data": {
      "text/html": [
       "<div>\n",
       "<style scoped>\n",
       "    .dataframe tbody tr th:only-of-type {\n",
       "        vertical-align: middle;\n",
       "    }\n",
       "\n",
       "    .dataframe tbody tr th {\n",
       "        vertical-align: top;\n",
       "    }\n",
       "\n",
       "    .dataframe thead th {\n",
       "        text-align: right;\n",
       "    }\n",
       "</style>\n",
       "<table border=\"1\" class=\"dataframe\">\n",
       "  <thead>\n",
       "    <tr style=\"text-align: right;\">\n",
       "      <th></th>\n",
       "      <th>Name</th>\n",
       "      <th>Platform</th>\n",
       "      <th>Year_of_Release</th>\n",
       "      <th>Genre</th>\n",
       "      <th>NA_sales</th>\n",
       "      <th>EU_sales</th>\n",
       "      <th>JP_sales</th>\n",
       "      <th>Other_sales</th>\n",
       "      <th>Critic_Score</th>\n",
       "      <th>User_Score</th>\n",
       "      <th>Rating</th>\n",
       "    </tr>\n",
       "  </thead>\n",
       "  <tbody>\n",
       "    <tr>\n",
       "      <td>0</td>\n",
       "      <td>Wii Sports</td>\n",
       "      <td>Wii</td>\n",
       "      <td>2006.0</td>\n",
       "      <td>Sports</td>\n",
       "      <td>41.36</td>\n",
       "      <td>28.96</td>\n",
       "      <td>3.77</td>\n",
       "      <td>8.45</td>\n",
       "      <td>76.0</td>\n",
       "      <td>8</td>\n",
       "      <td>E</td>\n",
       "    </tr>\n",
       "    <tr>\n",
       "      <td>1</td>\n",
       "      <td>Super Mario Bros.</td>\n",
       "      <td>NES</td>\n",
       "      <td>1985.0</td>\n",
       "      <td>Platform</td>\n",
       "      <td>29.08</td>\n",
       "      <td>3.58</td>\n",
       "      <td>6.81</td>\n",
       "      <td>0.77</td>\n",
       "      <td>NaN</td>\n",
       "      <td>NaN</td>\n",
       "      <td>NaN</td>\n",
       "    </tr>\n",
       "    <tr>\n",
       "      <td>2</td>\n",
       "      <td>Mario Kart Wii</td>\n",
       "      <td>Wii</td>\n",
       "      <td>2008.0</td>\n",
       "      <td>Racing</td>\n",
       "      <td>15.68</td>\n",
       "      <td>12.76</td>\n",
       "      <td>3.79</td>\n",
       "      <td>3.29</td>\n",
       "      <td>82.0</td>\n",
       "      <td>8.3</td>\n",
       "      <td>E</td>\n",
       "    </tr>\n",
       "    <tr>\n",
       "      <td>3</td>\n",
       "      <td>Wii Sports Resort</td>\n",
       "      <td>Wii</td>\n",
       "      <td>2009.0</td>\n",
       "      <td>Sports</td>\n",
       "      <td>15.61</td>\n",
       "      <td>10.93</td>\n",
       "      <td>3.28</td>\n",
       "      <td>2.95</td>\n",
       "      <td>80.0</td>\n",
       "      <td>8</td>\n",
       "      <td>E</td>\n",
       "    </tr>\n",
       "    <tr>\n",
       "      <td>4</td>\n",
       "      <td>Pokemon Red/Pokemon Blue</td>\n",
       "      <td>GB</td>\n",
       "      <td>1996.0</td>\n",
       "      <td>Role-Playing</td>\n",
       "      <td>11.27</td>\n",
       "      <td>8.89</td>\n",
       "      <td>10.22</td>\n",
       "      <td>1.00</td>\n",
       "      <td>NaN</td>\n",
       "      <td>NaN</td>\n",
       "      <td>NaN</td>\n",
       "    </tr>\n",
       "  </tbody>\n",
       "</table>\n",
       "</div>"
      ],
      "text/plain": [
       "                       Name Platform  Year_of_Release         Genre  NA_sales  \\\n",
       "0                Wii Sports      Wii           2006.0        Sports     41.36   \n",
       "1         Super Mario Bros.      NES           1985.0      Platform     29.08   \n",
       "2            Mario Kart Wii      Wii           2008.0        Racing     15.68   \n",
       "3         Wii Sports Resort      Wii           2009.0        Sports     15.61   \n",
       "4  Pokemon Red/Pokemon Blue       GB           1996.0  Role-Playing     11.27   \n",
       "\n",
       "   EU_sales  JP_sales  Other_sales  Critic_Score User_Score Rating  \n",
       "0     28.96      3.77         8.45          76.0          8      E  \n",
       "1      3.58      6.81         0.77           NaN        NaN    NaN  \n",
       "2     12.76      3.79         3.29          82.0        8.3      E  \n",
       "3     10.93      3.28         2.95          80.0          8      E  \n",
       "4      8.89     10.22         1.00           NaN        NaN    NaN  "
      ]
     },
     "execution_count": 2,
     "metadata": {},
     "output_type": "execute_result"
    }
   ],
   "source": [
    "# рассмотрим общую информацию о таблице games\n",
    "data.info()\n",
    "data.head()"
   ]
  },
  {
   "cell_type": "markdown",
   "metadata": {},
   "source": [
    "В таблице `data` представлена информация о играх. \n",
    "  \n",
    "Столбцы:  \n",
    " - **Name** — название игры\n",
    " - **Platform** — платформа\n",
    " - **Year_of_Release** — год выпуска\n",
    " - **Genre** — жанр игры\n",
    " - **NA_sales** — продажи в Северной Америке (миллионы проданных копий)\n",
    " - **EU_sales** — продажи в Европе (миллионы проданных копий)\n",
    " - **JP_sales** — продажи в Японии (миллионы проданных копий)\n",
    " - **Other_sales** — продажи в других странах (миллионы проданных копий)\n",
    " - **Critic_Score** — оценка критиков (максимум 100)\n",
    " - **User_Score** — оценка пользователей (максимум 10)\n",
    " - **Rating** — рейтинг от организации ESRB "
   ]
  },
  {
   "cell_type": "markdown",
   "metadata": {},
   "source": [
    "### Шаг 2. Предобработка данных"
   ]
  },
  {
   "cell_type": "markdown",
   "metadata": {},
   "source": [
    "<a id='4-bullet'></a>\n",
    "#### Сделаем названия столбцов строчными"
   ]
  },
  {
   "cell_type": "code",
   "execution_count": 3,
   "metadata": {},
   "outputs": [],
   "source": [
    "data.columns = data.columns.str.lower() "
   ]
  },
  {
   "cell_type": "markdown",
   "metadata": {},
   "source": [
    "<a id='5-bullet'></a>\n",
    "#### Обработаем пропущенные значения"
   ]
  },
  {
   "cell_type": "code",
   "execution_count": 4,
   "metadata": {},
   "outputs": [
    {
     "name": "stdout",
     "output_type": "stream",
     "text": [
      "name Пропущено 0.0% значений\n",
      "\n",
      "platform Пропущенных значений нет\n",
      "\n",
      "year_of_release Пропущено 1.6% значений\n",
      "\n",
      "genre Пропущено 0.0% значений\n",
      "\n",
      "na_sales Пропущенных значений нет\n",
      "\n",
      "eu_sales Пропущенных значений нет\n",
      "\n",
      "jp_sales Пропущенных значений нет\n",
      "\n",
      "other_sales Пропущенных значений нет\n",
      "\n",
      "critic_score Пропущено 51.3% значений\n",
      "\n",
      "user_score Пропущено 40.1% значений\n",
      "\n",
      "rating Пропущено 40.5% значений\n",
      "\n"
     ]
    }
   ],
   "source": [
    "# напишем функцию, которая считает долю пропущенных значений в столбце\n",
    "def check_na(column):\n",
    "    try:\n",
    "        return print(column, 'Пропущено {:.1%}'.format(data[column].isna().value_counts()[1]/len(data)),'значений')\n",
    "    except:\n",
    "        return print(column, 'Пропущенных значений нет')\n",
    "\n",
    "# посчитаем на доли пропущенных значений в каждом столбце:    \n",
    "for row in list(data):\n",
    "    check_na(row)\n",
    "    print()"
   ]
  },
  {
   "cell_type": "markdown",
   "metadata": {},
   "source": [
    "В **6 столбцах** имеются пропущенные значения.  \n",
    "В столбцах `name` и `genre` пропущено несколько строк, поэтому их можно просто удалить.  \n",
    "Столбец `year_of_release` не возможно заполнить на основе каких-либо расчетных значений. Удалим строки с пропущенными данными, так как таких строк достаточно мало (1,6%), мы не потеряем много информации.    \n",
    "Столбцы `critic_score`, `user_score` и `rating` также невозможно заполнить на основе расчетных значений. Возможная причина пропусков, что эти игры вообще не оценивали и не давали рейтинг. Например, если они выходили давно. Заменим пропущенные значения в этих столбцах, а также аббревиатуру *tbd* (to be determined, подлежит определению с англ.) на число-маркер. Например, -1."
   ]
  },
  {
   "cell_type": "code",
   "execution_count": 5,
   "metadata": {},
   "outputs": [],
   "source": [
    "# удалим пропущенные строки в столбце с названием игры (name)\n",
    "data.dropna(subset=['name'], inplace=True)"
   ]
  },
  {
   "cell_type": "code",
   "execution_count": 6,
   "metadata": {},
   "outputs": [],
   "source": [
    "# удалим пропущенные строки в столбце с годом выпуска игры (year_of_release)\n",
    "data.dropna(subset=['year_of_release'], inplace=True)"
   ]
  },
  {
   "cell_type": "code",
   "execution_count": 7,
   "metadata": {},
   "outputs": [],
   "source": [
    "# заменим пропуски в столбцах critic_score, user_score и rating на число-маркер\n",
    "for column in ['critic_score', 'user_score', 'rating']:\n",
    "    data.loc[data[column].isna(), column] = -1"
   ]
  },
  {
   "cell_type": "code",
   "execution_count": 8,
   "metadata": {},
   "outputs": [],
   "source": [
    "# заменим аббревиатуру \"tbd\" в user_score на число-маркер\n",
    "data.loc[data['user_score']=='tbd', 'user_score'] = -1"
   ]
  },
  {
   "cell_type": "markdown",
   "metadata": {},
   "source": [
    "<a id='6-bullet'></a>\n",
    "#### Заменим типы данных"
   ]
  },
  {
   "cell_type": "code",
   "execution_count": 9,
   "metadata": {},
   "outputs": [
    {
     "data": {
      "text/plain": [
       "name                object\n",
       "platform            object\n",
       "year_of_release    float64\n",
       "genre               object\n",
       "na_sales           float64\n",
       "eu_sales           float64\n",
       "jp_sales           float64\n",
       "other_sales        float64\n",
       "critic_score       float64\n",
       "user_score          object\n",
       "rating              object\n",
       "dtype: object"
      ]
     },
     "execution_count": 9,
     "metadata": {},
     "output_type": "execute_result"
    }
   ],
   "source": [
    "# посмотрим на текущие типы данных в столбцах\n",
    "data.dtypes"
   ]
  },
  {
   "cell_type": "code",
   "execution_count": 10,
   "metadata": {},
   "outputs": [],
   "source": [
    "# заменим на целочисленный тип значений\n",
    "data['year_of_release'] = data['year_of_release'].astype('int')\n",
    "\n",
    "# заменим на вещественный тип значений\n",
    "data['user_score'] = pd.to_numeric(data['user_score'])"
   ]
  },
  {
   "cell_type": "markdown",
   "metadata": {},
   "source": [
    "<a id='7-bullet'></a>\n",
    "#### Посчитаем суммарные продажи во всех регионах"
   ]
  },
  {
   "cell_type": "code",
   "execution_count": 11,
   "metadata": {},
   "outputs": [],
   "source": [
    "data['total_sales']=data['na_sales']+data['eu_sales']+data['jp_sales']+data['other_sales']"
   ]
  },
  {
   "cell_type": "markdown",
   "metadata": {},
   "source": [
    "### Шаг 3. Исследовательский анализ данных"
   ]
  },
  {
   "cell_type": "markdown",
   "metadata": {},
   "source": [
    "<a id='8-bullet'></a>\n",
    "#### Посмотрим сколько игр выпускалось в разные годы"
   ]
  },
  {
   "cell_type": "code",
   "execution_count": 12,
   "metadata": {},
   "outputs": [
    {
     "data": {
      "image/png": "[encoded data removed]",
      "text/plain": [
       "<Figure size 576x360 with 1 Axes>"
      ]
     },
     "metadata": {
      "needs_background": "light"
     },
     "output_type": "display_data"
    }
   ],
   "source": [
    "# строим график выхода игр по годам\n",
    "(data\n",
    "    .pivot_table(index='year_of_release', values='total_sales', aggfunc='count')\n",
    "    .plot(figsize=(8,5), kind='bar')\n",
    ")\n",
    "plt.title('Количество выпущенных игр')\n",
    "plt.xlabel('Год выпуска игр')\n",
    "plt.ylabel('Количество, млн. шт.')\n",
    "plt.show()"
   ]
  },
  {
   "cell_type": "markdown",
   "metadata": {},
   "source": [
    "Если посмотреть на график, то можно заметить, что **до 1995г**. вышло очень мало игр, поэтому скорее всего эти данные будут не так интересны нам в дальнейшем анализе."
   ]
  },
  {
   "cell_type": "markdown",
   "metadata": {},
   "source": [
    "<a id='9-bullet'></a>\n",
    "#### Посмотрим как менялись продажи по платформам в зависимости от года"
   ]
  },
  {
   "cell_type": "markdown",
   "metadata": {},
   "source": [
    "Для начала посмотрим сколько в среднем лет на каждую игровую платформу продаются игры. Иными словами сколько в среднем живет платформа."
   ]
  },
  {
   "cell_type": "code",
   "execution_count": 13,
   "metadata": {},
   "outputs": [],
   "source": [
    "# найдем объем продаж игр для каждой платформы по годам\n",
    "timeseries = data.pivot_table(index='year_of_release', columns='platform',values='total_sales', aggfunc='sum')\n",
    "timeseries.fillna(0, inplace=True)"
   ]
  },
  {
   "cell_type": "code",
   "execution_count": 14,
   "metadata": {},
   "outputs": [],
   "source": [
    "# создазим список из количества жизни лет каждой платформы - количество лет, когда были хоть какие-либо продажи игр \n",
    "notnull=[]\n",
    "for platform in timeseries.columns:\n",
    "    notnull.append((timeseries[platform]!= 0).sum())"
   ]
  },
  {
   "cell_type": "code",
   "execution_count": 15,
   "metadata": {},
   "outputs": [
    {
     "data": {
      "text/html": [
       "<div>\n",
       "<style scoped>\n",
       "    .dataframe tbody tr th:only-of-type {\n",
       "        vertical-align: middle;\n",
       "    }\n",
       "\n",
       "    .dataframe tbody tr th {\n",
       "        vertical-align: top;\n",
       "    }\n",
       "\n",
       "    .dataframe thead th {\n",
       "        text-align: right;\n",
       "    }\n",
       "</style>\n",
       "<table border=\"1\" class=\"dataframe\">\n",
       "  <thead>\n",
       "    <tr style=\"text-align: right;\">\n",
       "      <th></th>\n",
       "      <th>0</th>\n",
       "    </tr>\n",
       "  </thead>\n",
       "  <tbody>\n",
       "    <tr>\n",
       "      <td>count</td>\n",
       "      <td>31.000000</td>\n",
       "    </tr>\n",
       "    <tr>\n",
       "      <td>mean</td>\n",
       "      <td>7.677419</td>\n",
       "    </tr>\n",
       "    <tr>\n",
       "      <td>std</td>\n",
       "      <td>5.081910</td>\n",
       "    </tr>\n",
       "    <tr>\n",
       "      <td>min</td>\n",
       "      <td>1.000000</td>\n",
       "    </tr>\n",
       "    <tr>\n",
       "      <td>25%</td>\n",
       "      <td>4.000000</td>\n",
       "    </tr>\n",
       "    <tr>\n",
       "      <td>50%</td>\n",
       "      <td>7.000000</td>\n",
       "    </tr>\n",
       "    <tr>\n",
       "      <td>75%</td>\n",
       "      <td>11.000000</td>\n",
       "    </tr>\n",
       "    <tr>\n",
       "      <td>max</td>\n",
       "      <td>26.000000</td>\n",
       "    </tr>\n",
       "  </tbody>\n",
       "</table>\n",
       "</div>"
      ],
      "text/plain": [
       "               0\n",
       "count  31.000000\n",
       "mean    7.677419\n",
       "std     5.081910\n",
       "min     1.000000\n",
       "25%     4.000000\n",
       "50%     7.000000\n",
       "75%    11.000000\n",
       "max    26.000000"
      ]
     },
     "execution_count": 15,
     "metadata": {},
     "output_type": "execute_result"
    }
   ],
   "source": [
    "# переведем список в датафрейм\n",
    "notnull = pd.DataFrame(notnull)\n",
    "\n",
    "# посчитаем характерные значения для жизни платформ\n",
    "notnull.describe()"
   ]
  },
  {
   "cell_type": "markdown",
   "metadata": {},
   "source": [
    "Итак, **средняя продолжительность жизни игровой платформы**, в течение которой она приносит какие-либо деньги, составляет **8 лет**  \n",
    "  \n",
    "Далее, найдем ТОП-10 платформ с наибольшими продажами и посмотрим как они распределялись по годам "
   ]
  },
  {
   "cell_type": "code",
   "execution_count": 16,
   "metadata": {},
   "outputs": [
    {
     "data": {
      "text/html": [
       "<div>\n",
       "<style scoped>\n",
       "    .dataframe tbody tr th:only-of-type {\n",
       "        vertical-align: middle;\n",
       "    }\n",
       "\n",
       "    .dataframe tbody tr th {\n",
       "        vertical-align: top;\n",
       "    }\n",
       "\n",
       "    .dataframe thead th {\n",
       "        text-align: right;\n",
       "    }\n",
       "</style>\n",
       "<table border=\"1\" class=\"dataframe\">\n",
       "  <thead>\n",
       "    <tr style=\"text-align: right;\">\n",
       "      <th></th>\n",
       "      <th>platform</th>\n",
       "      <th>total_sales</th>\n",
       "    </tr>\n",
       "  </thead>\n",
       "  <tbody>\n",
       "    <tr>\n",
       "      <td>0</td>\n",
       "      <td>PS2</td>\n",
       "      <td>1233.56</td>\n",
       "    </tr>\n",
       "    <tr>\n",
       "      <td>1</td>\n",
       "      <td>X360</td>\n",
       "      <td>961.24</td>\n",
       "    </tr>\n",
       "    <tr>\n",
       "      <td>2</td>\n",
       "      <td>PS3</td>\n",
       "      <td>931.34</td>\n",
       "    </tr>\n",
       "    <tr>\n",
       "      <td>3</td>\n",
       "      <td>Wii</td>\n",
       "      <td>891.18</td>\n",
       "    </tr>\n",
       "    <tr>\n",
       "      <td>4</td>\n",
       "      <td>DS</td>\n",
       "      <td>802.78</td>\n",
       "    </tr>\n",
       "    <tr>\n",
       "      <td>5</td>\n",
       "      <td>PS</td>\n",
       "      <td>727.58</td>\n",
       "    </tr>\n",
       "    <tr>\n",
       "      <td>6</td>\n",
       "      <td>PS4</td>\n",
       "      <td>314.14</td>\n",
       "    </tr>\n",
       "    <tr>\n",
       "      <td>7</td>\n",
       "      <td>GBA</td>\n",
       "      <td>312.88</td>\n",
       "    </tr>\n",
       "    <tr>\n",
       "      <td>8</td>\n",
       "      <td>PSP</td>\n",
       "      <td>289.53</td>\n",
       "    </tr>\n",
       "    <tr>\n",
       "      <td>9</td>\n",
       "      <td>3DS</td>\n",
       "      <td>257.81</td>\n",
       "    </tr>\n",
       "  </tbody>\n",
       "</table>\n",
       "</div>"
      ],
      "text/plain": [
       "  platform  total_sales\n",
       "0      PS2      1233.56\n",
       "1     X360       961.24\n",
       "2      PS3       931.34\n",
       "3      Wii       891.18\n",
       "4       DS       802.78\n",
       "5       PS       727.58\n",
       "6      PS4       314.14\n",
       "7      GBA       312.88\n",
       "8      PSP       289.53\n",
       "9      3DS       257.81"
      ]
     },
     "execution_count": 16,
     "metadata": {},
     "output_type": "execute_result"
    }
   ],
   "source": [
    "# создадим список ТОП-10 платформ с наибольшими продажами за всё время\n",
    "top_platforms = (data\n",
    "    .pivot_table(index='platform', values='total_sales', aggfunc='sum')\n",
    "    .sort_values(by='total_sales', ascending=False).head(10))\n",
    "\n",
    "top_platforms = top_platforms.reset_index()\n",
    "top_platforms"
   ]
  },
  {
   "cell_type": "markdown",
   "metadata": {},
   "source": [
    "Как можно заметить в лидерах **PS2, Xbox 360 и PS3**"
   ]
  },
  {
   "cell_type": "code",
   "execution_count": 17,
   "metadata": {},
   "outputs": [],
   "source": [
    "# добавляем булевый столбец принадлежности к ТОП-10 платформ\n",
    "data['top_platform']=data['platform'].isin(top_platforms['platform'])"
   ]
  },
  {
   "cell_type": "code",
   "execution_count": 18,
   "metadata": {
    "scrolled": true
   },
   "outputs": [
    {
     "data": {
      "image/png": "[encoded data removed]",
      "text/plain": [
       "<Figure size 1080x288 with 1 Axes>"
      ]
     },
     "metadata": {
      "needs_background": "light"
     },
     "output_type": "display_data"
    }
   ],
   "source": [
    "# построим график как распределяются продажи по ТОП-10 платформам, начиная с 1995г.\n",
    "(data\n",
    "    .query('(top_platform == True) and (year_of_release>=1995)')\n",
    "    .pivot_table(index='year_of_release', columns='platform', values='total_sales', aggfunc='sum')\n",
    "    .plot(figsize=(15,4), kind='bar', stacked=True)\n",
    ")\n",
    "plt.title('Количество проданных игр по ТОП-10 платформам')\n",
    "plt.xlabel('Год выпуска игр')\n",
    "plt.ylabel('Количество проданных игр, млн.')\n",
    "plt.show()"
   ]
  },
  {
   "cell_type": "markdown",
   "metadata": {},
   "source": [
    "Ранее мы выяснили, что в среднем консоли живут около 8 лет, поэтому **в качестве актуального периода возьмем данные с 2013 по 2016гг**. Это период, когда новое поколение консолей (например, PS4) как раз находится в середине своей жизни, пока другие консоли наоборот уже в конце своего жизненного цикла.  "
   ]
  },
  {
   "cell_type": "markdown",
   "metadata": {},
   "source": [
    "<a id='10-bullet'></a>\n",
    "#### Рассмотрим подробнее выбранный период с 2013г. по 2016г."
   ]
  },
  {
   "cell_type": "code",
   "execution_count": 19,
   "metadata": {
    "scrolled": true
   },
   "outputs": [
    {
     "data": {
      "image/png": "[encoded data removed]",
      "text/plain": [
       "<Figure size 936x288 with 1 Axes>"
      ]
     },
     "metadata": {
      "needs_background": "light"
     },
     "output_type": "display_data"
    }
   ],
   "source": [
    "# построим график как распределяются продажи по платформам, начиная с 2003г.\n",
    "(data\n",
    "    .query('year_of_release>=2013')\n",
    "    .pivot_table(index='platform', columns='year_of_release', values='total_sales', aggfunc='sum')\n",
    "    .plot(figsize=(13,4), kind='bar')\n",
    ")\n",
    "plt.title('Количество проданных игр по платформам')\n",
    "plt.xlabel('Год выпуска игр')\n",
    "plt.ylabel('Количество проданных игр, млн.')\n",
    "plt.show()"
   ]
  },
  {
   "cell_type": "markdown",
   "metadata": {},
   "source": [
    "Как было сказано ранее, в качестве актуального периода был выбран период последнего поколения консолей. PS4 и XOne находятся в своей активной коммерческой фазе и имеют самые большие продажи в 2016г., в то время как лидеры 2013г. PS3 и X360 продаются значительно реже. "
   ]
  },
  {
   "cell_type": "markdown",
   "metadata": {},
   "source": [
    "<a id='11-bullet'></a>\n",
    "#### Рассмотрим глобальные продажи игр в разбивке по платформам."
   ]
  },
  {
   "cell_type": "code",
   "execution_count": 20,
   "metadata": {},
   "outputs": [],
   "source": [
    "# отфильтруем данные до 2013г.\n",
    "actual_data = data.query('year_of_release>=2013')"
   ]
  },
  {
   "cell_type": "code",
   "execution_count": 21,
   "metadata": {},
   "outputs": [
    {
     "data": {
      "text/html": [
       "<div>\n",
       "<style scoped>\n",
       "    .dataframe tbody tr th:only-of-type {\n",
       "        vertical-align: middle;\n",
       "    }\n",
       "\n",
       "    .dataframe tbody tr th {\n",
       "        vertical-align: top;\n",
       "    }\n",
       "\n",
       "    .dataframe thead th {\n",
       "        text-align: right;\n",
       "    }\n",
       "</style>\n",
       "<table border=\"1\" class=\"dataframe\">\n",
       "  <thead>\n",
       "    <tr style=\"text-align: right;\">\n",
       "      <th></th>\n",
       "      <th>sum</th>\n",
       "      <th>median</th>\n",
       "    </tr>\n",
       "    <tr>\n",
       "      <th>platform</th>\n",
       "      <th></th>\n",
       "      <th></th>\n",
       "    </tr>\n",
       "  </thead>\n",
       "  <tbody>\n",
       "    <tr>\n",
       "      <td>PS4</td>\n",
       "      <td>314.14</td>\n",
       "      <td>0.200</td>\n",
       "    </tr>\n",
       "    <tr>\n",
       "      <td>PS3</td>\n",
       "      <td>181.43</td>\n",
       "      <td>0.150</td>\n",
       "    </tr>\n",
       "    <tr>\n",
       "      <td>XOne</td>\n",
       "      <td>159.32</td>\n",
       "      <td>0.220</td>\n",
       "    </tr>\n",
       "    <tr>\n",
       "      <td>3DS</td>\n",
       "      <td>143.25</td>\n",
       "      <td>0.090</td>\n",
       "    </tr>\n",
       "    <tr>\n",
       "      <td>X360</td>\n",
       "      <td>136.80</td>\n",
       "      <td>0.265</td>\n",
       "    </tr>\n",
       "    <tr>\n",
       "      <td>WiiU</td>\n",
       "      <td>64.63</td>\n",
       "      <td>0.200</td>\n",
       "    </tr>\n",
       "    <tr>\n",
       "      <td>PC</td>\n",
       "      <td>39.43</td>\n",
       "      <td>0.080</td>\n",
       "    </tr>\n",
       "    <tr>\n",
       "      <td>PSV</td>\n",
       "      <td>32.99</td>\n",
       "      <td>0.040</td>\n",
       "    </tr>\n",
       "    <tr>\n",
       "      <td>Wii</td>\n",
       "      <td>13.66</td>\n",
       "      <td>0.180</td>\n",
       "    </tr>\n",
       "    <tr>\n",
       "      <td>PSP</td>\n",
       "      <td>3.50</td>\n",
       "      <td>0.020</td>\n",
       "    </tr>\n",
       "    <tr>\n",
       "      <td>DS</td>\n",
       "      <td>1.54</td>\n",
       "      <td>0.150</td>\n",
       "    </tr>\n",
       "  </tbody>\n",
       "</table>\n",
       "</div>"
      ],
      "text/plain": [
       "             sum  median\n",
       "platform                \n",
       "PS4       314.14   0.200\n",
       "PS3       181.43   0.150\n",
       "XOne      159.32   0.220\n",
       "3DS       143.25   0.090\n",
       "X360      136.80   0.265\n",
       "WiiU       64.63   0.200\n",
       "PC         39.43   0.080\n",
       "PSV        32.99   0.040\n",
       "Wii        13.66   0.180\n",
       "PSP         3.50   0.020\n",
       "DS          1.54   0.150"
      ]
     },
     "execution_count": 21,
     "metadata": {},
     "output_type": "execute_result"
    }
   ],
   "source": [
    "# построим таблицу с общим и медианным количеством проданных игр\n",
    "global_sales = actual_data.pivot_table(index='platform', values='total_sales', aggfunc=['sum','median'])\n",
    "global_sales.columns = ('sum','median')\n",
    "global_sales.sort_values('sum', ascending=False)"
   ]
  },
  {
   "cell_type": "code",
   "execution_count": 22,
   "metadata": {
    "scrolled": true
   },
   "outputs": [
    {
     "data": {
      "image/png": "[encoded data removed]",
      "text/plain": [
       "<Figure size 936x288 with 1 Axes>"
      ]
     },
     "metadata": {
      "needs_background": "light"
     },
     "output_type": "display_data"
    }
   ],
   "source": [
    "# построим ящики с усами для каждой платформы\n",
    "actual_data.boxplot('total_sales', by='platform',figsize=(13,4))\n",
    "plt.ylim(0,2)\n",
    "plt.title('Глобальные продажи игр по платформам')\n",
    "plt.xlabel('Платформа')\n",
    "plt.ylabel('Количество проданных игр, млн.')\n",
    "plt.show()"
   ]
  },
  {
   "cell_type": "markdown",
   "metadata": {},
   "source": [
    "Лидерами по продажам за актуальный период являются **PS4, PS3 и XOne**. В свою очередь, лидерами по средним продажам являются **X360, Xone, WiiU и PS4**.  \n",
    "Доходы от продаж игр на DS составляют всего 0.5% от продаж игр лидера (PS4)."
   ]
  },
  {
   "cell_type": "markdown",
   "metadata": {},
   "source": [
    "<a id='12-bullet'></a>\n",
    "#### Влияние отзывов пользователей и критиков на продажи игр."
   ]
  },
  {
   "cell_type": "markdown",
   "metadata": {},
   "source": [
    "Рассмотрим влияние оценок критиков и пользователей на продажи на платформе-лидере актуального периода - PS4."
   ]
  },
  {
   "cell_type": "code",
   "execution_count": 23,
   "metadata": {},
   "outputs": [],
   "source": [
    "# отфильтруем данные по лидеру актуального периода \n",
    "ps4=actual_data.query('(platform == \"PS4\") and (critic_score != -1) and (user_score != -1)')"
   ]
  },
  {
   "cell_type": "code",
   "execution_count": 24,
   "metadata": {},
   "outputs": [
    {
     "name": "stdout",
     "output_type": "stream",
     "text": [
      "Коэффициент корреляции critic_score и total_sales: 0.41\n",
      "Коэффициент корреляции user_score и total_sales: -0.03\n"
     ]
    },
    {
     "data": {
      "image/png": "[encoded data removed]",
      "text/plain": [
       "<Figure size 432x288 with 1 Axes>"
      ]
     },
     "metadata": {
      "needs_background": "light"
     },
     "output_type": "display_data"
    },
    {
     "data": {
      "image/png": "[encoded data removed]",
      "text/plain": [
       "<Figure size 432x288 with 1 Axes>"
      ]
     },
     "metadata": {
      "needs_background": "light"
     },
     "output_type": "display_data"
    }
   ],
   "source": [
    "# посчитаем коэффициент корреляции и построим диаграмму рассеяния оценок и общих продаж\n",
    "for column in ['critic_score', 'user_score']:\n",
    "    print('Коэффициент корреляции {0} и total_sales: {1}'.\\\n",
    "              format(column, round(ps4[column].corr(ps4['total_sales']), 2)))\n",
    "    ps4.plot(x=column, y='total_sales', kind='scatter', alpha=0.5)\n",
    "    plt.title(column)\n",
    "plt.show()"
   ]
  },
  {
   "cell_type": "markdown",
   "metadata": {},
   "source": [
    "Как можно заметить коэффициент корреляции указывает на **слабую прямую взаимосвязь** между оценкой критиков и количеством продаж игры.  \n",
    "В то время как оценки пользователей не влияют на продажи игры. \n",
    "  \n",
    "Далее, рассмотрим другие платформы. Будет ли наблюдаться схожая взаимосязь у них? "
   ]
  },
  {
   "cell_type": "code",
   "execution_count": 25,
   "metadata": {
    "scrolled": true
   },
   "outputs": [
    {
     "name": "stdout",
     "output_type": "stream",
     "text": [
      "\n",
      "PS3:\n",
      "Коэффициент корреляции critic_score и total_sales: 0.33\n",
      "Коэффициент корреляции user_score и total_sales: 0.02\n"
     ]
    },
    {
     "data": {
      "image/png": "[encoded data removed]",
      "text/plain": [
       "<Figure size 432x288 with 1 Axes>"
      ]
     },
     "metadata": {
      "needs_background": "light"
     },
     "output_type": "display_data"
    },
    {
     "data": {
      "image/png": "[encoded data removed]",
      "text/plain": [
       "<Figure size 432x288 with 1 Axes>"
      ]
     },
     "metadata": {
      "needs_background": "light"
     },
     "output_type": "display_data"
    },
    {
     "name": "stdout",
     "output_type": "stream",
     "text": [
      "\n",
      "XOne:\n",
      "Коэффициент корреляции critic_score и total_sales: 0.41\n",
      "Коэффициент корреляции user_score и total_sales: -0.09\n"
     ]
    },
    {
     "data": {
      "image/png": "[encoded data removed]",
      "text/plain": [
       "<Figure size 432x288 with 1 Axes>"
      ]
     },
     "metadata": {
      "needs_background": "light"
     },
     "output_type": "display_data"
    },
    {
     "data": {
      "image/png": "[encoded data removed]",
      "text/plain": [
       "<Figure size 432x288 with 1 Axes>"
      ]
     },
     "metadata": {
      "needs_background": "light"
     },
     "output_type": "display_data"
    },
    {
     "name": "stdout",
     "output_type": "stream",
     "text": [
      "\n",
      "3DS:\n",
      "Коэффициент корреляции critic_score и total_sales: 0.34\n",
      "Коэффициент корреляции user_score и total_sales: 0.27\n"
     ]
    },
    {
     "data": {
      "image/png": "[encoded data removed]",
      "text/plain": [
       "<Figure size 432x288 with 1 Axes>"
      ]
     },
     "metadata": {
      "needs_background": "light"
     },
     "output_type": "display_data"
    },
    {
     "data": {
      "image/png": "[encoded data removed]",
      "text/plain": [
       "<Figure size 432x288 with 1 Axes>"
      ]
     },
     "metadata": {
      "needs_background": "light"
     },
     "output_type": "display_data"
    },
    {
     "name": "stdout",
     "output_type": "stream",
     "text": [
      "\n",
      "X360:\n",
      "Коэффициент корреляции critic_score и total_sales: 0.35\n",
      "Коэффициент корреляции user_score и total_sales: -0.01\n"
     ]
    },
    {
     "data": {
      "image/png": "[encoded data removed]",
      "text/plain": [
       "<Figure size 432x288 with 1 Axes>"
      ]
     },
     "metadata": {
      "needs_background": "light"
     },
     "output_type": "display_data"
    },
    {
     "data": {
      "image/png": "[encoded data removed]",
      "text/plain": [
       "<Figure size 432x288 with 1 Axes>"
      ]
     },
     "metadata": {
      "needs_background": "light"
     },
     "output_type": "display_data"
    },
    {
     "name": "stdout",
     "output_type": "stream",
     "text": [
      "\n",
      "WiiU:\n",
      "Коэффициент корреляции critic_score и total_sales: 0.38\n",
      "Коэффициент корреляции user_score и total_sales: 0.41\n"
     ]
    },
    {
     "data": {
      "image/png": "[encoded data removed]",
      "text/plain": [
       "<Figure size 432x288 with 1 Axes>"
      ]
     },
     "metadata": {
      "needs_background": "light"
     },
     "output_type": "display_data"
    },
    {
     "data": {
      "image/png": "[encoded data removed]",
      "text/plain": [
       "<Figure size 432x288 with 1 Axes>"
      ]
     },
     "metadata": {
      "needs_background": "light"
     },
     "output_type": "display_data"
    }
   ],
   "source": [
    "# посчитаем коэффициенты корреляции и построим диаграммы для других платформ\n",
    "for platform in ['PS3', 'XOne', '3DS','X360', 'WiiU']:\n",
    "    print('\\n{0}:'.format(platform))\n",
    "    for column in ['critic_score', 'user_score']:\n",
    "        temp=actual_data.query('platform == @platform and (user_score != -1) and (critic_score != -1)')\n",
    "        print('Коэффициент корреляции {0} и total_sales: {1}'.\\\n",
    "              format(column, round(temp[column].corr(temp['total_sales']), 2)))\n",
    "        temp.plot(x=column, y='total_sales', kind='scatter', alpha=0.5)\n",
    "        plt.title(column)\n",
    "    plt.show()"
   ]
  },
  {
   "cell_type": "markdown",
   "metadata": {},
   "source": [
    "У **всех других платформ** наблюдается схожая картина как у лидера актуального периода PS4 - оценки критиков оказывают небольшое прямое влияние на продажи.  \n",
    "Стоит отметить, что у **3DS и WiiU** на продажи также оказывают влияние оценки пользователей. "
   ]
  },
  {
   "cell_type": "markdown",
   "metadata": {},
   "source": [
    "<a id='13-bullet'></a>\n",
    "#### Посмотрим на общее распределение игр по жанрам"
   ]
  },
  {
   "cell_type": "code",
   "execution_count": 26,
   "metadata": {},
   "outputs": [
    {
     "data": {
      "text/html": [
       "<div>\n",
       "<style scoped>\n",
       "    .dataframe tbody tr th:only-of-type {\n",
       "        vertical-align: middle;\n",
       "    }\n",
       "\n",
       "    .dataframe tbody tr th {\n",
       "        vertical-align: top;\n",
       "    }\n",
       "\n",
       "    .dataframe thead th {\n",
       "        text-align: right;\n",
       "    }\n",
       "</style>\n",
       "<table border=\"1\" class=\"dataframe\">\n",
       "  <thead>\n",
       "    <tr style=\"text-align: right;\">\n",
       "      <th></th>\n",
       "      <th>total_sales</th>\n",
       "      <th>median_sales</th>\n",
       "    </tr>\n",
       "    <tr>\n",
       "      <th>genre</th>\n",
       "      <th></th>\n",
       "      <th></th>\n",
       "    </tr>\n",
       "  </thead>\n",
       "  <tbody>\n",
       "    <tr>\n",
       "      <td>Action</td>\n",
       "      <td>321.87</td>\n",
       "      <td>0.110</td>\n",
       "    </tr>\n",
       "    <tr>\n",
       "      <td>Shooter</td>\n",
       "      <td>232.98</td>\n",
       "      <td>0.450</td>\n",
       "    </tr>\n",
       "    <tr>\n",
       "      <td>Sports</td>\n",
       "      <td>150.65</td>\n",
       "      <td>0.240</td>\n",
       "    </tr>\n",
       "    <tr>\n",
       "      <td>Role-Playing</td>\n",
       "      <td>145.89</td>\n",
       "      <td>0.125</td>\n",
       "    </tr>\n",
       "    <tr>\n",
       "      <td>Misc</td>\n",
       "      <td>62.82</td>\n",
       "      <td>0.100</td>\n",
       "    </tr>\n",
       "    <tr>\n",
       "      <td>Platform</td>\n",
       "      <td>42.63</td>\n",
       "      <td>0.225</td>\n",
       "    </tr>\n",
       "    <tr>\n",
       "      <td>Racing</td>\n",
       "      <td>39.89</td>\n",
       "      <td>0.120</td>\n",
       "    </tr>\n",
       "    <tr>\n",
       "      <td>Fighting</td>\n",
       "      <td>35.31</td>\n",
       "      <td>0.125</td>\n",
       "    </tr>\n",
       "    <tr>\n",
       "      <td>Adventure</td>\n",
       "      <td>23.64</td>\n",
       "      <td>0.030</td>\n",
       "    </tr>\n",
       "    <tr>\n",
       "      <td>Simulation</td>\n",
       "      <td>21.76</td>\n",
       "      <td>0.100</td>\n",
       "    </tr>\n",
       "    <tr>\n",
       "      <td>Strategy</td>\n",
       "      <td>10.08</td>\n",
       "      <td>0.080</td>\n",
       "    </tr>\n",
       "    <tr>\n",
       "      <td>Puzzle</td>\n",
       "      <td>3.17</td>\n",
       "      <td>0.060</td>\n",
       "    </tr>\n",
       "  </tbody>\n",
       "</table>\n",
       "</div>"
      ],
      "text/plain": [
       "              total_sales  median_sales\n",
       "genre                                  \n",
       "Action             321.87         0.110\n",
       "Shooter            232.98         0.450\n",
       "Sports             150.65         0.240\n",
       "Role-Playing       145.89         0.125\n",
       "Misc                62.82         0.100\n",
       "Platform            42.63         0.225\n",
       "Racing              39.89         0.120\n",
       "Fighting            35.31         0.125\n",
       "Adventure           23.64         0.030\n",
       "Simulation          21.76         0.100\n",
       "Strategy            10.08         0.080\n",
       "Puzzle               3.17         0.060"
      ]
     },
     "execution_count": 26,
     "metadata": {},
     "output_type": "execute_result"
    }
   ],
   "source": [
    "# посчитаем общие и средние продажи за актуальный период по жанрам\n",
    "genres = actual_data.pivot_table(index='genre', values='total_sales', aggfunc=['sum','median'])\n",
    "genres.columns=('total_sales', 'median_sales')\n",
    "genres.sort_values(by='total_sales', ascending=False)"
   ]
  },
  {
   "cell_type": "code",
   "execution_count": 27,
   "metadata": {},
   "outputs": [
    {
     "data": {
      "image/png": "[encoded data removed]",
      "text/plain": [
       "<Figure size 432x288 with 1 Axes>"
      ]
     },
     "metadata": {
      "needs_background": "light"
     },
     "output_type": "display_data"
    },
    {
     "data": {
      "image/png": "[encoded data removed]",
      "text/plain": [
       "<Figure size 432x288 with 1 Axes>"
      ]
     },
     "metadata": {
      "needs_background": "light"
     },
     "output_type": "display_data"
    }
   ],
   "source": [
    "# построим диаграммы для глобальных и средних продаж игр по жанрам\n",
    "for column in ['sum','median']:\n",
    "    (actual_data\n",
    "        .pivot_table(index='genre', values='total_sales', aggfunc=column)\n",
    "        .sort_values('total_sales', ascending=False)\n",
    "        .plot(kind='bar', ylim=(0,actual_data.pivot_table(index='genre', values='total_sales', aggfunc=column)['total_sales'].max()+0.2), title=column))\n",
    "plt.xlabel('Жанр')\n",
    "plt.ylabel('Количество проданных игр, млн.')\n",
    "plt.show()"
   ]
  },
  {
   "cell_type": "markdown",
   "metadata": {},
   "source": [
    "Можно заметить, что игры жанра **Shooter** имеют самые высокие средние продажи, но интересно, что по общим продажами они уступают  играм самого популярного жанра **Action**.  \n",
    "Реже всего за актуальный период пользователи покупали **стратегии и игры головоломки (Strategy и Puzzle)**."
   ]
  },
  {
   "cell_type": "markdown",
   "metadata": {},
   "source": [
    "### Шаг 4. Портрет пользователя каждого региона"
   ]
  },
  {
   "cell_type": "markdown",
   "metadata": {},
   "source": [
    "<a id='14-bullet'></a>\n",
    "#### Рассмотрим самые популярные платформы в регионах"
   ]
  },
  {
   "cell_type": "code",
   "execution_count": 28,
   "metadata": {},
   "outputs": [
    {
     "name": "stdout",
     "output_type": "stream",
     "text": [
      "          na_sales  ratio\n",
      "platform                 \n",
      "PS4         108.74   0.25\n",
      "XOne         93.12   0.21\n",
      "X360         81.66   0.19\n",
      "PS3          63.50   0.15\n",
      "3DS          38.20   0.09\n",
      "\n",
      "          eu_sales  ratio\n",
      "platform                 \n",
      "PS4         141.09   0.36\n",
      "PS3          67.81   0.17\n",
      "XOne         51.59   0.13\n",
      "X360         42.52   0.11\n",
      "3DS          30.96   0.08\n",
      "\n",
      "          jp_sales  ratio\n",
      "platform                 \n",
      "3DS          67.81   0.48\n",
      "PS3          23.35   0.17\n",
      "PSV          18.59   0.13\n",
      "PS4          15.96   0.11\n",
      "WiiU         10.88   0.08\n",
      "\n"
     ]
    }
   ],
   "source": [
    "# посчитаем ТОП-5 платформ в каждом регионе и долю каждой из них\n",
    "for column in ['na_sales', 'eu_sales','jp_sales']:\n",
    "    region = actual_data.pivot_table(index='platform', values=column, aggfunc='sum').\\\n",
    "    sort_values(column, ascending=False)\n",
    "    region['ratio']=round(region[column]/region[column].sum(),2)\n",
    "    print(region.nlargest(5, column))\n",
    "    print()"
   ]
  },
  {
   "cell_type": "markdown",
   "metadata": {},
   "source": [
    "Для Северной Америки и Европы ТОП-5 платформ совпадает, существуют только различия в долях и местах в ТОП-5. В свою очередь, в Японии ТОП-5 серьезно различается.  \n",
    "В Северной Америке и Европе лидирует **PS4**, а в Японии - **3DS**, которая замыкает ТОП-5 в Европе и Северной Америке. Также можно обратить внимание, что в Японии в ТОП-5 не попала ни одна версия платформы **X-box**. "
   ]
  },
  {
   "cell_type": "markdown",
   "metadata": {},
   "source": [
    "<a id='15-bullet'></a>\n",
    "#### Рассмотрим самые популярные жанры игр в регионах"
   ]
  },
  {
   "cell_type": "code",
   "execution_count": 29,
   "metadata": {},
   "outputs": [
    {
     "name": "stdout",
     "output_type": "stream",
     "text": [
      "              na_sales  ratio\n",
      "genre                        \n",
      "Action          126.05   0.29\n",
      "Shooter         109.74   0.25\n",
      "Sports           65.27   0.15\n",
      "Role-Playing     46.40   0.11\n",
      "Misc             27.49   0.06\n",
      "\n",
      "              eu_sales  ratio\n",
      "genre                        \n",
      "Action          118.13   0.30\n",
      "Shooter          87.86   0.22\n",
      "Sports           60.52   0.15\n",
      "Role-Playing     36.97   0.09\n",
      "Racing           20.19   0.05\n",
      "\n",
      "              jp_sales  ratio\n",
      "genre                        \n",
      "Role-Playing     51.04   0.36\n",
      "Action           40.49   0.29\n",
      "Misc              9.20   0.07\n",
      "Fighting          7.65   0.05\n",
      "Shooter           6.61   0.05\n",
      "\n"
     ]
    }
   ],
   "source": [
    "# посчитаем ТОП-5 жанров в каждом регионе и долю каждого из них\n",
    "for column in ['na_sales', 'eu_sales','jp_sales']:\n",
    "    region = actual_data.pivot_table(index='genre', values=column, aggfunc='sum').\\\n",
    "    sort_values(column, ascending=False)\n",
    "    region['ratio']=round(region[column]/region[column].sum(),2)\n",
    "    print(region.nlargest(5, column))\n",
    "    print()"
   ]
  },
  {
   "cell_type": "markdown",
   "metadata": {},
   "source": [
    "Самый популярный жанр в Северной Америке и Европе - **Action**, в Японии он занимает второе место. ТОП-5 жанров в Северной Америке и Европе различаются только пятым местом. В Северной Америке - это **Misc**, а в Европе - **Racing**.  \n",
    "В Японии больше всего любят игры жанра **РПГ (Role-Playing**), а второй по популярности жанр **Shooter** в Северной Америке и  Европе занимает только 5 место."
   ]
  },
  {
   "cell_type": "markdown",
   "metadata": {},
   "source": [
    "<a id='16-bullet'></a>\n",
    "#### Рассмотрим влияет ли рейтинг ESRB на продажи в регионах"
   ]
  },
  {
   "cell_type": "markdown",
   "metadata": {},
   "source": [
    "Рейтинг ESRB*: \n",
    "  - E - от 6 лет\n",
    "  - E10+ - от 10 лет\n",
    "  - T - от 13 лет\n",
    "  - M - от 17 лет  \n",
    "\n",
    "*Значение \"-1\" означает, что у игры по каким-то причинам нет рейтинга. "
   ]
  },
  {
   "cell_type": "code",
   "execution_count": 30,
   "metadata": {},
   "outputs": [
    {
     "data": {
      "text/html": [
       "<style  type=\"text/css\" >\n",
       "</style><table id=\"T_8216558a_e8a3_11ea_aeab_02420a392c8c\" ><thead>    <tr>        <th class=\"blank level0\" ></th>        <th class=\"col_heading level0 col0\" >eu_sales</th>        <th class=\"col_heading level0 col1\" >jp_sales</th>        <th class=\"col_heading level0 col2\" >na_sales</th>    </tr>    <tr>        <th class=\"index_name level0\" >rating</th>        <th class=\"blank\" ></th>        <th class=\"blank\" ></th>        <th class=\"blank\" ></th>    </tr></thead><tbody>\n",
       "                <tr>\n",
       "                        <th id=\"T_8216558a_e8a3_11ea_aeab_02420a392c8clevel0_row0\" class=\"row_heading level0 row0\" >-1</th>\n",
       "                        <td id=\"T_8216558a_e8a3_11ea_aeab_02420a392c8crow0_col0\" class=\"data row0 col0\" >20.1%</td>\n",
       "                        <td id=\"T_8216558a_e8a3_11ea_aeab_02420a392c8crow0_col1\" class=\"data row0 col1\" >60.4%</td>\n",
       "                        <td id=\"T_8216558a_e8a3_11ea_aeab_02420a392c8crow0_col2\" class=\"data row0 col2\" >20.4%</td>\n",
       "            </tr>\n",
       "            <tr>\n",
       "                        <th id=\"T_8216558a_e8a3_11ea_aeab_02420a392c8clevel0_row1\" class=\"row_heading level0 row1\" >E</th>\n",
       "                        <td id=\"T_8216558a_e8a3_11ea_aeab_02420a392c8crow1_col0\" class=\"data row1 col0\" >21.3%</td>\n",
       "                        <td id=\"T_8216558a_e8a3_11ea_aeab_02420a392c8crow1_col1\" class=\"data row1 col1\" >10.8%</td>\n",
       "                        <td id=\"T_8216558a_e8a3_11ea_aeab_02420a392c8crow1_col2\" class=\"data row1 col2\" >18.1%</td>\n",
       "            </tr>\n",
       "            <tr>\n",
       "                        <th id=\"T_8216558a_e8a3_11ea_aeab_02420a392c8clevel0_row2\" class=\"row_heading level0 row2\" >E10+</th>\n",
       "                        <td id=\"T_8216558a_e8a3_11ea_aeab_02420a392c8crow2_col0\" class=\"data row2 col0\" >10.9%</td>\n",
       "                        <td id=\"T_8216558a_e8a3_11ea_aeab_02420a392c8crow2_col1\" class=\"data row2 col1\" >4.2%</td>\n",
       "                        <td id=\"T_8216558a_e8a3_11ea_aeab_02420a392c8crow2_col2\" class=\"data row2 col2\" >12.4%</td>\n",
       "            </tr>\n",
       "            <tr>\n",
       "                        <th id=\"T_8216558a_e8a3_11ea_aeab_02420a392c8clevel0_row3\" class=\"row_heading level0 row3\" >M</th>\n",
       "                        <td id=\"T_8216558a_e8a3_11ea_aeab_02420a392c8crow3_col0\" class=\"data row3 col0\" >37.0%</td>\n",
       "                        <td id=\"T_8216558a_e8a3_11ea_aeab_02420a392c8crow3_col1\" class=\"data row3 col1\" >10.0%</td>\n",
       "                        <td id=\"T_8216558a_e8a3_11ea_aeab_02420a392c8crow3_col2\" class=\"data row3 col2\" >37.7%</td>\n",
       "            </tr>\n",
       "            <tr>\n",
       "                        <th id=\"T_8216558a_e8a3_11ea_aeab_02420a392c8clevel0_row4\" class=\"row_heading level0 row4\" >T</th>\n",
       "                        <td id=\"T_8216558a_e8a3_11ea_aeab_02420a392c8crow4_col0\" class=\"data row4 col0\" >10.7%</td>\n",
       "                        <td id=\"T_8216558a_e8a3_11ea_aeab_02420a392c8crow4_col1\" class=\"data row4 col1\" >14.6%</td>\n",
       "                        <td id=\"T_8216558a_e8a3_11ea_aeab_02420a392c8crow4_col2\" class=\"data row4 col2\" >11.4%</td>\n",
       "            </tr>\n",
       "    </tbody></table>"
      ],
      "text/plain": [
       "<pandas.io.formats.style.Styler at 0x7f10f99dd890>"
      ]
     },
     "execution_count": 30,
     "metadata": {},
     "output_type": "execute_result"
    },
    {
     "data": {
      "image/png": "[encoded data removed]",
      "text/plain": [
       "<Figure size 720x360 with 1 Axes>"
      ]
     },
     "metadata": {
      "needs_background": "light"
     },
     "output_type": "display_data"
    }
   ],
   "source": [
    "# посчитаем доли рейтингов ESRB по регионам\n",
    "columns = ['na_sales', 'eu_sales','jp_sales']\n",
    "report = actual_data.pivot_table(index='rating', values=columns, aggfunc='sum')\n",
    "for col in columns:\n",
    "    report[col] = report[col] / report[col].sum()\n",
    "report.plot(kind = 'bar', figsize=(10,5))\n",
    "plt.title('Продажи игр по рейтингу ESRB')\n",
    "plt.xlabel('Рейтинг ESRB')\n",
    "plt.ylabel('Количество проданных игр, млн.')\n",
    "report.style.format({'eu_sales':'{:.1%}', 'jp_sales':'{:.1%}', 'na_sales':'{:.1%}'})"
   ]
  },
  {
   "cell_type": "markdown",
   "metadata": {},
   "source": [
    "Северная Америка и Европа вновь отличаются от Японии по популярности рейтингов: в Америке и Европе самый популярный рейтинг **\"M\" (от 17 лет)**, в то время как в Японии - рейтинг **\"T\" (от 13 лет)**. Второе место принадлежит одинаково во всех регионах и принадлежит рейтингу **\"E\" (от 6 лет)**.  \n",
    "Можно заметить, что в Японии практически в 3 раза больше игр без рейтинга ESRB по сравнению с Северной Америкой и Европой. Это объясняется тем, что для Японии более актуален другой рейтинг - CERO.  "
   ]
  },
  {
   "cell_type": "markdown",
   "metadata": {},
   "source": [
    "### Шаг 5. Проверка гипотез"
   ]
  },
  {
   "cell_type": "markdown",
   "metadata": {},
   "source": [
    "<a id='17-bullet'></a>\n",
    "#### 1. Средние пользовательские рейтинги платформ Xbox One и PC одинаковые\n",
    "H0 = средний пользовательский рейтинг платформ Xbox One и PC одинаковый  \n",
    "H1 = средний пользовательский рейтинг платформ Xbox One и PC различается  \n",
    "α = 5%"
   ]
  },
  {
   "cell_type": "markdown",
   "metadata": {},
   "source": [
    "Перед проверкой гипотез посмотрим на дисперсии выборок, чтобы определить каким должен быть атрибут `equal_var`"
   ]
  },
  {
   "cell_type": "code",
   "execution_count": 31,
   "metadata": {},
   "outputs": [
    {
     "name": "stdout",
     "output_type": "stream",
     "text": [
      "Дисперсия для  XOne 12.4\n",
      "Дисперсия для  PC 10.3\n"
     ]
    },
    {
     "data": {
      "image/png": "[encoded data removed]",
      "text/plain": [
       "<Figure size 432x288 with 1 Axes>"
      ]
     },
     "metadata": {
      "needs_background": "light"
     },
     "output_type": "display_data"
    }
   ],
   "source": [
    "# посчитаем дисперсию и построим распределение\n",
    "for column in ['XOne', 'PC']: \n",
    "    print('Дисперсия для ',column,round(np.var(actual_data[actual_data['platform']== column]['user_score']),1))\n",
    "    actual_data[actual_data['platform']== column] ['user_score'].hist(bins=10, alpha=0.6)\n",
    "    plt.title('Распределение оценок платформ Xbox One и PC')\n",
    "    plt.xlim(0,10)\n",
    "    plt.ylim(0,60)\n",
    "    plt.xlabel('Оценка пользователя')\n",
    "    plt.ylabel('Кол-во, шт')"
   ]
  },
  {
   "cell_type": "markdown",
   "metadata": {},
   "source": [
    "Дисперсии платформ и распределения оценок по платформам приблизительно равны, поэтому при проверке гипотезы атрибуту `equal_var` передадим значение *True*."
   ]
  },
  {
   "cell_type": "code",
   "execution_count": 32,
   "metadata": {},
   "outputs": [
    {
     "name": "stdout",
     "output_type": "stream",
     "text": [
      "p-значение: 0.20111399900783614\n",
      "Не получилось отвергнуть нулевую гипотезу\n"
     ]
    }
   ],
   "source": [
    "# выделяем пользователей платформ в отдельную переменную\n",
    "xone = actual_data.query('platform == \"XOne\"')['user_score']\n",
    "pc = actual_data.query('platform == \"PC\"')['user_score']\n",
    "\n",
    "alpha = .05\n",
    "\n",
    "# проверка гипотезы\n",
    "results = st.ttest_ind(\n",
    "    xone,\n",
    "    pc,\n",
    "    equal_var=True)\n",
    "\n",
    "print('p-значение:', results.pvalue)\n",
    "\n",
    "if results.pvalue < alpha:\n",
    "    print(\"Отвергаем нулевую гипотезу\")\n",
    "else:\n",
    "    print(\"Не получилось отвергнуть нулевую гипотезу\")"
   ]
  },
  {
   "cell_type": "code",
   "execution_count": 33,
   "metadata": {},
   "outputs": [
    {
     "data": {
      "text/html": [
       "<style  type=\"text/css\" >\n",
       "</style><table id=\"T_8291b2ac_e8a3_11ea_aeab_02420a392c8c\" ><thead>    <tr>        <th class=\"blank level0\" ></th>        <th class=\"col_heading level0 col0\" >user_score</th>    </tr>    <tr>        <th class=\"index_name level0\" >platform</th>        <th class=\"blank\" ></th>    </tr></thead><tbody>\n",
       "                <tr>\n",
       "                        <th id=\"T_8291b2ac_e8a3_11ea_aeab_02420a392c8clevel0_row0\" class=\"row_heading level0 row0\" >PC</th>\n",
       "                        <td id=\"T_8291b2ac_e8a3_11ea_aeab_02420a392c8crow0_col0\" class=\"data row0 col0\" >4.96</td>\n",
       "            </tr>\n",
       "            <tr>\n",
       "                        <th id=\"T_8291b2ac_e8a3_11ea_aeab_02420a392c8clevel0_row1\" class=\"row_heading level0 row1\" >XOne</th>\n",
       "                        <td id=\"T_8291b2ac_e8a3_11ea_aeab_02420a392c8crow1_col0\" class=\"data row1 col0\" >4.54</td>\n",
       "            </tr>\n",
       "    </tbody></table>"
      ],
      "text/plain": [
       "<pandas.io.formats.style.Styler at 0x7f10f95c6710>"
      ]
     },
     "execution_count": 33,
     "metadata": {},
     "output_type": "execute_result"
    }
   ],
   "source": [
    "# посмотрим на средние пользовательские оценки по платформам \n",
    "xone_pc=actual_data.query('(platform == \"XOne\") or (platform == \"PC\")')\n",
    "xone_pc.pivot_table(index='platform',values='user_score', aggfunc='mean').style.format({'user_score':'{:.3}'})"
   ]
  },
  {
   "cell_type": "markdown",
   "metadata": {},
   "source": [
    "У нас нет оснований отвергнуть нулевую гипотезу, а это значит, что с вероятностью 95% средний **пользовательский рейтинг игр** на платформах Xbox One и PC **не различается**. "
   ]
  },
  {
   "cell_type": "markdown",
   "metadata": {},
   "source": [
    "<a id='18-bullet'></a>\n",
    "#### 2. Средние пользовательские рейтинги жанров Action и Sports разные.\n",
    "H0 = средний пользовательский рейтинг жанров Action и Sports одинаковый  \n",
    "H1 = средний пользовательский рейтинг жанров Action и Sports различается  \n",
    "α = 5%"
   ]
  },
  {
   "cell_type": "markdown",
   "metadata": {},
   "source": [
    "Перед проверкой гипотез посмотрим на дисперсии выборок, чтобы определить каким должен быть атрибут `equal_var`"
   ]
  },
  {
   "cell_type": "code",
   "execution_count": 34,
   "metadata": {},
   "outputs": [
    {
     "name": "stdout",
     "output_type": "stream",
     "text": [
      "Дисперсия для  Action 16.2\n",
      "Дисперсия для  Sports 9.7\n"
     ]
    },
    {
     "data": {
      "image/png": "[encoded data removed]",
      "text/plain": [
       "<Figure size 432x288 with 1 Axes>"
      ]
     },
     "metadata": {
      "needs_background": "light"
     },
     "output_type": "display_data"
    }
   ],
   "source": [
    "# посчитаем дисперсию и построим распределение\n",
    "for column in ['Action', 'Sports']: \n",
    "    print('Дисперсия для ',column,round(np.var(actual_data[actual_data['genre']== column]['user_score']),1))\n",
    "    actual_data[actual_data['genre']== column] ['user_score'].hist(bins=10, alpha=0.6)\n",
    "    plt.title('Распределение оценок жанров Action и Sports')\n",
    "    plt.xlim(0,10)\n",
    "    plt.ylim(0,200)\n",
    "    plt.xlabel('Оценка пользователя')\n",
    "    plt.ylabel('Кол-во, шт')"
   ]
  },
  {
   "cell_type": "markdown",
   "metadata": {},
   "source": [
    "Дисперсии жанров и распределения оценок по жанрам различаются, поэтому при проверке гипотезы атрибуту `equal_var` передадим значение *False*."
   ]
  },
  {
   "cell_type": "code",
   "execution_count": 35,
   "metadata": {},
   "outputs": [
    {
     "name": "stdout",
     "output_type": "stream",
     "text": [
      "p-значение: 0.008445505365573194\n",
      "Отвергаем нулевую гипотезу\n"
     ]
    }
   ],
   "source": [
    "# выделяем пользователей платформ в отдельную переменную\n",
    "action = actual_data.query('genre == \"Action\"')['user_score']\n",
    "sports = actual_data.query('genre == \"Sports\"')['user_score']\n",
    "\n",
    "alpha = .05\n",
    "\n",
    "# проверка гипотезы\n",
    "results = st.ttest_ind(\n",
    "    action,\n",
    "    sports,\n",
    "    equal_var=False)\n",
    "\n",
    "print('p-значение:', results.pvalue)\n",
    "\n",
    "if results.pvalue < alpha:\n",
    "    print(\"Отвергаем нулевую гипотезу\")\n",
    "else:\n",
    "    print(\"Не получилось отвергнуть нулевую гипотезу\")"
   ]
  },
  {
   "cell_type": "code",
   "execution_count": 36,
   "metadata": {},
   "outputs": [
    {
     "data": {
      "text/html": [
       "<style  type=\"text/css\" >\n",
       "</style><table id=\"T_82d94e50_e8a3_11ea_aeab_02420a392c8c\" ><thead>    <tr>        <th class=\"blank level0\" ></th>        <th class=\"col_heading level0 col0\" >user_score</th>    </tr>    <tr>        <th class=\"index_name level0\" >genre</th>        <th class=\"blank\" ></th>    </tr></thead><tbody>\n",
       "                <tr>\n",
       "                        <th id=\"T_82d94e50_e8a3_11ea_aeab_02420a392c8clevel0_row0\" class=\"row_heading level0 row0\" >Action</th>\n",
       "                        <td id=\"T_82d94e50_e8a3_11ea_aeab_02420a392c8crow0_col0\" class=\"data row0 col0\" >2.98</td>\n",
       "            </tr>\n",
       "            <tr>\n",
       "                        <th id=\"T_82d94e50_e8a3_11ea_aeab_02420a392c8clevel0_row1\" class=\"row_heading level0 row1\" >Sports</th>\n",
       "                        <td id=\"T_82d94e50_e8a3_11ea_aeab_02420a392c8crow1_col0\" class=\"data row1 col0\" >3.66</td>\n",
       "            </tr>\n",
       "    </tbody></table>"
      ],
      "text/plain": [
       "<pandas.io.formats.style.Styler at 0x7f10f94a45d0>"
      ]
     },
     "execution_count": 36,
     "metadata": {},
     "output_type": "execute_result"
    }
   ],
   "source": [
    "# посмотрим на средние пользовательские оценки по жанрам \n",
    "action_sports=actual_data.query('(genre == \"Action\") or (genre == \"Sports\")')\n",
    "action_sports.pivot_table(index='genre',values='user_score', aggfunc='mean').style.format({'user_score':'{:.3}'})"
   ]
  },
  {
   "cell_type": "markdown",
   "metadata": {},
   "source": [
    "У нас есть основания отвергнуть нулевую гипотезу, а это значит, что мы принимаем альтернативную гипотезу. Так, с вероятностью 95% мы можем утверждать, что средний пользовательский рейтинг жанров Action и Sports различается."
   ]
  },
  {
   "cell_type": "markdown",
   "metadata": {},
   "source": [
    "<a id='19-bullet'></a>\n",
    "### Шаг 6. Общий вывод"
   ]
  },
  {
   "cell_type": "markdown",
   "metadata": {},
   "source": [
    "Наш анализ показал, что потенциально успешный продукт должен обладать следующими характеристиками: \n",
    " 1. Если речь идет о рынке Северной Америки или Европы, то игра должна быть разработана для **PS4 или Xbox One**. А если игру планируется продавать в Японии, то **3DS**\n",
    " 2. Жанры, которые имеют больший успех у аудитории Северной Америки и Европы - это **Action** или **Shooter**. В Японии - **Role-Playing**.  \n",
    " 3. Для Северной Америки и Европы лучше создавать игру с рейтингом ESRB **от 17 лет (M)**, а для Японии - **от 13 лет (T)**.\n",
    " 4. Оценки пользователей не оказывает никакого влияния на продажи. **Оценки критиков** в свою очередь оказывают небольшое **положительное влияние** на продажи. Также стоит отметить, что если оценки пользователей всё-таки будут важны издателям, и он будет выбирать между производством Action игры или спортивной игры, то лучше остановиться на **спортивной игре** - её пользовательские оценки вероятно окажутся **выше**. "
   ]
  }
 ],
 "metadata": {
  "kernelspec": {
   "display_name": "Python 3",
   "language": "python",
   "name": "python3"
  },
  "language_info": {
   "codemirror_mode": {
    "name": "ipython",
    "version": 3
   },
   "file_extension": ".py",
   "mimetype": "text/x-python",
   "name": "python",
   "nbconvert_exporter": "python",
   "pygments_lexer": "ipython3",
   "version": "3.8.3"
  }
 },
 "nbformat": 4,
 "nbformat_minor": 2
}
