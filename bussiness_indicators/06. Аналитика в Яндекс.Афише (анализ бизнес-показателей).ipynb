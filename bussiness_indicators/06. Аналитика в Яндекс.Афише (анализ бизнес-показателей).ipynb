{
 "cells": [
  {
   "cell_type": "markdown",
   "metadata": {},
   "source": [
    "### Аналитика в Яндекс.Афише\n",
    "___\n",
    "##### Мы проходим стажировку в Яндекс.Афише. В качестве первого задания необходимо помочь маркетологам оптимизировать маркетинговые затраты. В нашем распоряжении следующие данные с июня 2017 по май 2018 года: лог сервера с данными о посещениях сайта Яндес.Афиши, выгрузка всех заказов за этот период, статистика рекламных расходов. \n",
    "\n",
    "___\n",
    "###### Данное исследование разделим на несколько шагов. \n",
    "\n",
    "#### Шаг 1. Загрузка данных, изучение общей информации, подготовка данных: \n",
    "* [1.1. Загрузка библиотек, открытие и сохранение файла](#1-bullet)\n",
    "* [1.2. Получение и рассмотрение общей информации о таблице](#2-bullet)\n",
    "* [1.3. Проверка типов данных в таблицах](#3-bullet)\n",
    "\n",
    "#### Шаг 2. Построение отчетов и подсчет метрик:\n",
    "  \n",
    "##### Продукт  \n",
    "* [2.1. Сколько людей пользуются в день, неделю, месяц?](#4-bullet)\n",
    "* [2.2. Сколько сессий в день?](#5-bullet)\n",
    "* [2.3. Сколько длится одна сессия?](#6-bullet)\n",
    "* [2.4. Как часто люди возвращаются?](#7-bullet)  \n",
    "  \n",
    "##### Продажи  \n",
    "* [2.5. Когда люди начинают покупать?](#8-bullet)\n",
    "* [2.6. Сколько раз покупают за период?](#9-bullet)\n",
    "* [2.7. Какой средний чек?](#10-bullet)\n",
    "* [2.8. Сколько денег приносят? (LTV)](#11-bullet)  \n",
    "  \n",
    "##### Маркетинг  \n",
    "* [2.9. Сколько денег потратили? Всего / на каждый источник / по времени](#12-bullet)\n",
    "* [2.10. Сколько стоило привлечение одного покупателя из каждого источника?](#13-bullet)\n",
    "* [2.11. На сколько окупились расходы? (ROI)](#14-bullet)\n",
    "\n",
    "#### Шаг 3. Общий вывод:\n",
    "* [3.1. Рекомендации маркетологам](#15-bullet)"
   ]
  },
  {
   "cell_type": "markdown",
   "metadata": {},
   "source": [
    "### Шаг 1. Откроем файлы с данными и изучим общую информацию"
   ]
  },
  {
   "cell_type": "markdown",
   "metadata": {},
   "source": [
    "<a id='1-bullet'></a>\n",
    "#### 1.1. Загрузим библиотеки, откроем и сохраним файлы"
   ]
  },
  {
   "cell_type": "code",
   "execution_count": 1,
   "metadata": {},
   "outputs": [],
   "source": [
    "# импортируем необходимые библиотеки\n",
    "import pandas as pd \n",
    "import matplotlib.pyplot as plt\n",
    "import numpy as np\n",
    "from scipy import stats as st\n",
    "import seaborn as sns\n",
    "\n",
    "# открываем и сохраняем файлы\n",
    "visits = pd.read_csv('/datasets/visits_log.csv')\n",
    "orders = pd.read_csv('/datasets/orders_log.csv')\n",
    "costs = pd.read_csv('/datasets/costs.csv')"
   ]
  },
  {
   "cell_type": "markdown",
   "metadata": {},
   "source": [
    "<a id='2-bullet'></a>\n",
    "#### 1.2. Рассмотрим общую информацию о таблицах"
   ]
  },
  {
   "cell_type": "code",
   "execution_count": 2,
   "metadata": {},
   "outputs": [
    {
     "name": "stdout",
     "output_type": "stream",
     "text": [
      "<class 'pandas.core.frame.DataFrame'>\n",
      "RangeIndex: 359400 entries, 0 to 359399\n",
      "Data columns (total 5 columns):\n",
      "Device       359400 non-null object\n",
      "End Ts       359400 non-null object\n",
      "Source Id    359400 non-null int64\n",
      "Start Ts     359400 non-null object\n",
      "Uid          359400 non-null uint64\n",
      "dtypes: int64(1), object(3), uint64(1)\n",
      "memory usage: 13.7+ MB\n"
     ]
    },
    {
     "data": {
      "text/html": [
       "<div>\n",
       "<style scoped>\n",
       "    .dataframe tbody tr th:only-of-type {\n",
       "        vertical-align: middle;\n",
       "    }\n",
       "\n",
       "    .dataframe tbody tr th {\n",
       "        vertical-align: top;\n",
       "    }\n",
       "\n",
       "    .dataframe thead th {\n",
       "        text-align: right;\n",
       "    }\n",
       "</style>\n",
       "<table border=\"1\" class=\"dataframe\">\n",
       "  <thead>\n",
       "    <tr style=\"text-align: right;\">\n",
       "      <th></th>\n",
       "      <th>Device</th>\n",
       "      <th>End Ts</th>\n",
       "      <th>Source Id</th>\n",
       "      <th>Start Ts</th>\n",
       "      <th>Uid</th>\n",
       "    </tr>\n",
       "  </thead>\n",
       "  <tbody>\n",
       "    <tr>\n",
       "      <td>0</td>\n",
       "      <td>touch</td>\n",
       "      <td>2017-12-20 17:38:00</td>\n",
       "      <td>4</td>\n",
       "      <td>2017-12-20 17:20:00</td>\n",
       "      <td>16879256277535980062</td>\n",
       "    </tr>\n",
       "    <tr>\n",
       "      <td>1</td>\n",
       "      <td>desktop</td>\n",
       "      <td>2018-02-19 17:21:00</td>\n",
       "      <td>2</td>\n",
       "      <td>2018-02-19 16:53:00</td>\n",
       "      <td>104060357244891740</td>\n",
       "    </tr>\n",
       "    <tr>\n",
       "      <td>2</td>\n",
       "      <td>touch</td>\n",
       "      <td>2017-07-01 01:54:00</td>\n",
       "      <td>5</td>\n",
       "      <td>2017-07-01 01:54:00</td>\n",
       "      <td>7459035603376831527</td>\n",
       "    </tr>\n",
       "    <tr>\n",
       "      <td>3</td>\n",
       "      <td>desktop</td>\n",
       "      <td>2018-05-20 11:23:00</td>\n",
       "      <td>9</td>\n",
       "      <td>2018-05-20 10:59:00</td>\n",
       "      <td>16174680259334210214</td>\n",
       "    </tr>\n",
       "    <tr>\n",
       "      <td>4</td>\n",
       "      <td>desktop</td>\n",
       "      <td>2017-12-27 14:06:00</td>\n",
       "      <td>3</td>\n",
       "      <td>2017-12-27 14:06:00</td>\n",
       "      <td>9969694820036681168</td>\n",
       "    </tr>\n",
       "  </tbody>\n",
       "</table>\n",
       "</div>"
      ],
      "text/plain": [
       "    Device               End Ts  Source Id             Start Ts  \\\n",
       "0    touch  2017-12-20 17:38:00          4  2017-12-20 17:20:00   \n",
       "1  desktop  2018-02-19 17:21:00          2  2018-02-19 16:53:00   \n",
       "2    touch  2017-07-01 01:54:00          5  2017-07-01 01:54:00   \n",
       "3  desktop  2018-05-20 11:23:00          9  2018-05-20 10:59:00   \n",
       "4  desktop  2017-12-27 14:06:00          3  2017-12-27 14:06:00   \n",
       "\n",
       "                    Uid  \n",
       "0  16879256277535980062  \n",
       "1    104060357244891740  \n",
       "2   7459035603376831527  \n",
       "3  16174680259334210214  \n",
       "4   9969694820036681168  "
      ]
     },
     "execution_count": 2,
     "metadata": {},
     "output_type": "execute_result"
    }
   ],
   "source": [
    "# рассмотрим общую информацию о таблице visits\n",
    "visits.info()\n",
    "visits.head()"
   ]
  },
  {
   "cell_type": "code",
   "execution_count": 3,
   "metadata": {},
   "outputs": [],
   "source": [
    "# переименуем названия столбцов\n",
    "visits.columns=['device','end_ts','source_id','start_ts','uid']"
   ]
  },
  {
   "cell_type": "code",
   "execution_count": 4,
   "metadata": {},
   "outputs": [
    {
     "data": {
      "text/plain": [
       "0"
      ]
     },
     "execution_count": 4,
     "metadata": {},
     "output_type": "execute_result"
    }
   ],
   "source": [
    "# проверим таблицу visits на дубликаты\n",
    "visits.duplicated().sum()"
   ]
  },
  {
   "cell_type": "code",
   "execution_count": 5,
   "metadata": {},
   "outputs": [
    {
     "name": "stdout",
     "output_type": "stream",
     "text": [
      "<class 'pandas.core.frame.DataFrame'>\n",
      "RangeIndex: 50415 entries, 0 to 50414\n",
      "Data columns (total 3 columns):\n",
      "Buy Ts     50415 non-null object\n",
      "Revenue    50415 non-null float64\n",
      "Uid        50415 non-null uint64\n",
      "dtypes: float64(1), object(1), uint64(1)\n",
      "memory usage: 1.2+ MB\n"
     ]
    },
    {
     "data": {
      "text/html": [
       "<div>\n",
       "<style scoped>\n",
       "    .dataframe tbody tr th:only-of-type {\n",
       "        vertical-align: middle;\n",
       "    }\n",
       "\n",
       "    .dataframe tbody tr th {\n",
       "        vertical-align: top;\n",
       "    }\n",
       "\n",
       "    .dataframe thead th {\n",
       "        text-align: right;\n",
       "    }\n",
       "</style>\n",
       "<table border=\"1\" class=\"dataframe\">\n",
       "  <thead>\n",
       "    <tr style=\"text-align: right;\">\n",
       "      <th></th>\n",
       "      <th>Buy Ts</th>\n",
       "      <th>Revenue</th>\n",
       "      <th>Uid</th>\n",
       "    </tr>\n",
       "  </thead>\n",
       "  <tbody>\n",
       "    <tr>\n",
       "      <td>0</td>\n",
       "      <td>2017-06-01 00:10:00</td>\n",
       "      <td>17.00</td>\n",
       "      <td>10329302124590727494</td>\n",
       "    </tr>\n",
       "    <tr>\n",
       "      <td>1</td>\n",
       "      <td>2017-06-01 00:25:00</td>\n",
       "      <td>0.55</td>\n",
       "      <td>11627257723692907447</td>\n",
       "    </tr>\n",
       "    <tr>\n",
       "      <td>2</td>\n",
       "      <td>2017-06-01 00:27:00</td>\n",
       "      <td>0.37</td>\n",
       "      <td>17903680561304213844</td>\n",
       "    </tr>\n",
       "    <tr>\n",
       "      <td>3</td>\n",
       "      <td>2017-06-01 00:29:00</td>\n",
       "      <td>0.55</td>\n",
       "      <td>16109239769442553005</td>\n",
       "    </tr>\n",
       "    <tr>\n",
       "      <td>4</td>\n",
       "      <td>2017-06-01 07:58:00</td>\n",
       "      <td>0.37</td>\n",
       "      <td>14200605875248379450</td>\n",
       "    </tr>\n",
       "  </tbody>\n",
       "</table>\n",
       "</div>"
      ],
      "text/plain": [
       "                Buy Ts  Revenue                   Uid\n",
       "0  2017-06-01 00:10:00    17.00  10329302124590727494\n",
       "1  2017-06-01 00:25:00     0.55  11627257723692907447\n",
       "2  2017-06-01 00:27:00     0.37  17903680561304213844\n",
       "3  2017-06-01 00:29:00     0.55  16109239769442553005\n",
       "4  2017-06-01 07:58:00     0.37  14200605875248379450"
      ]
     },
     "execution_count": 5,
     "metadata": {},
     "output_type": "execute_result"
    }
   ],
   "source": [
    "# рассмотрим общую информацию о таблице orders\n",
    "orders.info()\n",
    "orders.head()"
   ]
  },
  {
   "cell_type": "code",
   "execution_count": 6,
   "metadata": {},
   "outputs": [],
   "source": [
    "# переименуем названия столбцов\n",
    "orders.columns=['buy_ts','revenue','uid']"
   ]
  },
  {
   "cell_type": "code",
   "execution_count": 7,
   "metadata": {},
   "outputs": [
    {
     "data": {
      "text/plain": [
       "0"
      ]
     },
     "execution_count": 7,
     "metadata": {},
     "output_type": "execute_result"
    }
   ],
   "source": [
    "# проверим таблицу orders на дубликаты\n",
    "orders.duplicated().sum()"
   ]
  },
  {
   "cell_type": "code",
   "execution_count": 8,
   "metadata": {},
   "outputs": [
    {
     "name": "stdout",
     "output_type": "stream",
     "text": [
      "<class 'pandas.core.frame.DataFrame'>\n",
      "RangeIndex: 2542 entries, 0 to 2541\n",
      "Data columns (total 3 columns):\n",
      "source_id    2542 non-null int64\n",
      "dt           2542 non-null object\n",
      "costs        2542 non-null float64\n",
      "dtypes: float64(1), int64(1), object(1)\n",
      "memory usage: 59.7+ KB\n"
     ]
    },
    {
     "data": {
      "text/html": [
       "<div>\n",
       "<style scoped>\n",
       "    .dataframe tbody tr th:only-of-type {\n",
       "        vertical-align: middle;\n",
       "    }\n",
       "\n",
       "    .dataframe tbody tr th {\n",
       "        vertical-align: top;\n",
       "    }\n",
       "\n",
       "    .dataframe thead th {\n",
       "        text-align: right;\n",
       "    }\n",
       "</style>\n",
       "<table border=\"1\" class=\"dataframe\">\n",
       "  <thead>\n",
       "    <tr style=\"text-align: right;\">\n",
       "      <th></th>\n",
       "      <th>source_id</th>\n",
       "      <th>dt</th>\n",
       "      <th>costs</th>\n",
       "    </tr>\n",
       "  </thead>\n",
       "  <tbody>\n",
       "    <tr>\n",
       "      <td>0</td>\n",
       "      <td>1</td>\n",
       "      <td>2017-06-01</td>\n",
       "      <td>75.20</td>\n",
       "    </tr>\n",
       "    <tr>\n",
       "      <td>1</td>\n",
       "      <td>1</td>\n",
       "      <td>2017-06-02</td>\n",
       "      <td>62.25</td>\n",
       "    </tr>\n",
       "    <tr>\n",
       "      <td>2</td>\n",
       "      <td>1</td>\n",
       "      <td>2017-06-03</td>\n",
       "      <td>36.53</td>\n",
       "    </tr>\n",
       "    <tr>\n",
       "      <td>3</td>\n",
       "      <td>1</td>\n",
       "      <td>2017-06-04</td>\n",
       "      <td>55.00</td>\n",
       "    </tr>\n",
       "    <tr>\n",
       "      <td>4</td>\n",
       "      <td>1</td>\n",
       "      <td>2017-06-05</td>\n",
       "      <td>57.08</td>\n",
       "    </tr>\n",
       "  </tbody>\n",
       "</table>\n",
       "</div>"
      ],
      "text/plain": [
       "   source_id          dt  costs\n",
       "0          1  2017-06-01  75.20\n",
       "1          1  2017-06-02  62.25\n",
       "2          1  2017-06-03  36.53\n",
       "3          1  2017-06-04  55.00\n",
       "4          1  2017-06-05  57.08"
      ]
     },
     "execution_count": 8,
     "metadata": {},
     "output_type": "execute_result"
    }
   ],
   "source": [
    "# рассмотрим общую информацию о таблице costs\n",
    "costs.info()\n",
    "costs.head()"
   ]
  },
  {
   "cell_type": "code",
   "execution_count": 9,
   "metadata": {},
   "outputs": [
    {
     "data": {
      "text/plain": [
       "0"
      ]
     },
     "execution_count": 9,
     "metadata": {},
     "output_type": "execute_result"
    }
   ],
   "source": [
    "# проверим таблицу costs на дубликаты\n",
    "costs.duplicated().sum()"
   ]
  },
  {
   "cell_type": "markdown",
   "metadata": {},
   "source": [
    "<a id='3-bullet'></a>\n",
    "#### 1.3. Проверка типов данных в таблицах"
   ]
  },
  {
   "cell_type": "code",
   "execution_count": 10,
   "metadata": {},
   "outputs": [
    {
     "name": "stdout",
     "output_type": "stream",
     "text": [
      "device       object\n",
      "end_ts       object\n",
      "source_id     int64\n",
      "start_ts     object\n",
      "uid          uint64\n",
      "dtype: object\n",
      "\n",
      "buy_ts      object\n",
      "revenue    float64\n",
      "uid         uint64\n",
      "dtype: object\n",
      "\n",
      "source_id      int64\n",
      "dt            object\n",
      "costs        float64\n",
      "dtype: object\n",
      "\n"
     ]
    }
   ],
   "source": [
    "# проверим типы данных в таблицах\n",
    "for column in [visits, orders, costs]:\n",
    "    print(column.dtypes)\n",
    "    print()"
   ]
  },
  {
   "cell_type": "markdown",
   "metadata": {},
   "source": [
    "Переведем во всех таблицах столбцы с датами в соответствующий формат."
   ]
  },
  {
   "cell_type": "code",
   "execution_count": 11,
   "metadata": {},
   "outputs": [],
   "source": [
    "# преобразуем необходимые столбцы в формат даты\n",
    "visits['end_ts']=pd.to_datetime(visits['end_ts'])\n",
    "visits['start_ts']=pd.to_datetime(visits['start_ts'])\n",
    "orders['buy_ts']=pd.to_datetime(orders['buy_ts'])\n",
    "costs['dt']=pd.to_datetime(costs['dt'])"
   ]
  },
  {
   "cell_type": "markdown",
   "metadata": {},
   "source": [
    "Изучили общую информацию о данных, изменили названия столбцов, перевели столбцы с датами в соответствующий формат. Теперь можем переходить к анализу данных. "
   ]
  },
  {
   "cell_type": "markdown",
   "metadata": {},
   "source": [
    "### Шаг 2. Построение отчетов и подсчет метрик"
   ]
  },
  {
   "cell_type": "markdown",
   "metadata": {},
   "source": [
    "##### Продуктовые метрики:"
   ]
  },
  {
   "cell_type": "markdown",
   "metadata": {},
   "source": [
    "<a id='4-bullet'></a>\n",
    "#### 2.1. Сколько людей пользуются в день, неделю, месяц?"
   ]
  },
  {
   "cell_type": "code",
   "execution_count": 12,
   "metadata": {},
   "outputs": [],
   "source": [
    "# выделим в отдельные столбцы год, неделю, месяц и полную дату\n",
    "visits['year']=visits['start_ts'].dt.year\n",
    "visits['day']=visits['start_ts'].dt.date\n",
    "visits['week']=visits['start_ts'].dt.week\n",
    "visits['month']=visits['start_ts'].dt.month"
   ]
  },
  {
   "cell_type": "code",
   "execution_count": 13,
   "metadata": {},
   "outputs": [],
   "source": [
    "# посчитаем метрики\n",
    "dau_total = visits.groupby('day').agg({'uid':'nunique'}).mean()\n",
    "wau_total = visits.groupby(['year','week']).agg({'uid':'nunique'}).mean()\n",
    "mau_total = visits.groupby(['year','month']).agg({'uid':'nunique'}).mean()"
   ]
  },
  {
   "cell_type": "code",
   "execution_count": 14,
   "metadata": {},
   "outputs": [
    {
     "name": "stdout",
     "output_type": "stream",
     "text": [
      "907\n",
      "5716\n",
      "23228\n"
     ]
    }
   ],
   "source": [
    "print(int(dau_total))\n",
    "print(int(wau_total))\n",
    "print(int(mau_total))"
   ]
  },
  {
   "cell_type": "code",
   "execution_count": 15,
   "metadata": {},
   "outputs": [
    {
     "data": {
      "image/png": "[encoded data removed]",
      "text/plain": [
       "<Figure size 864x144 with 1 Axes>"
      ]
     },
     "metadata": {
      "needs_background": "light"
     },
     "output_type": "display_data"
    },
    {
     "data": {
      "image/png": "[encoded data removed]",
      "text/plain": [
       "<Figure size 864x144 with 1 Axes>"
      ]
     },
     "metadata": {
      "needs_background": "light"
     },
     "output_type": "display_data"
    },
    {
     "data": {
      "image/png": "[encoded data removed]",
      "text/plain": [
       "<Figure size 864x144 with 1 Axes>"
      ]
     },
     "metadata": {
      "needs_background": "light"
     },
     "output_type": "display_data"
    }
   ],
   "source": [
    "dau_total_graph = visits.groupby('day').agg({'uid':'nunique'}).plot(kind='line', figsize=(12,2))\n",
    "plt.title('DAU')\n",
    "wau_total_graph = visits.groupby(['year','week']).agg({'uid':'nunique'}).plot(kind='line', figsize=(12,2))\n",
    "plt.title('WAU')\n",
    "mau_total_graph = visits.groupby(['year','month']).agg({'uid':'nunique'}).plot(kind='line', figsize=(12,2))\n",
    "plt.title('MAU')\n",
    "plt.show()"
   ]
  },
  {
   "cell_type": "markdown",
   "metadata": {},
   "source": [
    "На графиках заметна **сезонность** - летом пользователей становится заметно меньше по сравнению с осенью-зимой. Это можно связать с тем, что все новые мероприятия выходит в конце года, а лето скорее \"мертвый\" сезон.  \n",
    "Однако можно заметить положительный тренд, что пользователей летом 18 года было чуть больше по сравнению с летом 17-го."
   ]
  },
  {
   "cell_type": "code",
   "execution_count": 16,
   "metadata": {},
   "outputs": [
    {
     "data": {
      "text/plain": [
       "uid    15.884409\n",
       "dtype: float64"
      ]
     },
     "execution_count": 16,
     "metadata": {},
     "output_type": "execute_result"
    }
   ],
   "source": [
    "# рассчитаем значения стики-фактора\n",
    "sticky_wau = dau_total / wau_total * 100\n",
    "sticky_wau"
   ]
  },
  {
   "cell_type": "code",
   "execution_count": 17,
   "metadata": {},
   "outputs": [
    {
     "data": {
      "text/plain": [
       "uid    3.90897\n",
       "dtype: float64"
      ]
     },
     "execution_count": 17,
     "metadata": {},
     "output_type": "execute_result"
    }
   ],
   "source": [
    "# рассчитаем значения стики-фактора\n",
    "sticky_mau = dau_total / mau_total * 100\n",
    "sticky_mau"
   ]
  },
  {
   "cell_type": "markdown",
   "metadata": {},
   "source": [
    "В день сервисом пользуется 907 пользователей, в неделю 5716, а в месяц 23228.   \n",
    "Полученные стики-факторы указывают на то, что скорее не всё в сервисе нравится пользователям. "
   ]
  },
  {
   "cell_type": "code",
   "execution_count": 18,
   "metadata": {},
   "outputs": [
    {
     "name": "stdout",
     "output_type": "stream",
     "text": [
      "dau touch = 252\n",
      "wau touch = 1634\n",
      "mau touch = 6825\n",
      "\n",
      "dau desktop = 659\n",
      "wau desktop = 4129\n",
      "mau desktop = 16724\n",
      "\n"
     ]
    }
   ],
   "source": [
    "# построим dau,wau mau в разрезе девайсов\n",
    "for column in visits['device'].unique():\n",
    "    dau_column = visits[visits['device']==column].groupby('day').agg({'uid':'nunique'}).mean()\n",
    "    wau_column = visits[visits['device']==column].groupby(['year','week']).agg({'uid':'nunique'}).mean()\n",
    "    mau_column = visits[visits['device']==column].groupby(['year','month']).agg({'uid':'nunique'}).mean()\n",
    "    print('dau',column,'=',int(dau_column))\n",
    "    print('wau',column,'=',int(wau_column))\n",
    "    print('mau',column,'=',int(mau_column))\n",
    "    print()"
   ]
  },
  {
   "cell_type": "code",
   "execution_count": 19,
   "metadata": {},
   "outputs": [
    {
     "name": "stdout",
     "output_type": "stream",
     "text": [
      "dau 4 = 275\n",
      "wau 4 = 1829\n",
      "mau 4 = 7765\n",
      "\n",
      "dau 2 = 120\n",
      "wau 2 = 715\n",
      "mau 2 = 2752\n",
      "\n",
      "dau 5 = 175\n",
      "wau 5 = 1167\n",
      "mau 5 = 5017\n",
      "\n",
      "dau 9 = 36\n",
      "wau 9 = 238\n",
      "mau 9 = 987\n",
      "\n",
      "dau 3 = 232\n",
      "wau 3 = 1565\n",
      "mau 3 = 6758\n",
      "\n",
      "dau 1 = 80\n",
      "wau 1 = 463\n",
      "mau 1 = 1818\n",
      "\n",
      "dau 10 = 26\n",
      "wau 10 = 166\n",
      "mau 10 = 707\n",
      "\n",
      "dau 7 = 1\n",
      "wau 7 = 1\n",
      "mau 7 = 2\n",
      "\n",
      "dau 6 = 1\n",
      "wau 6 = 1\n",
      "mau 6 = 1\n",
      "\n"
     ]
    }
   ],
   "source": [
    "# построим dau,wau mau в разрезе источников\n",
    "for column in visits['source_id'].unique():\n",
    "    dau_column = visits[visits['source_id']==column].groupby('day').agg({'uid':'nunique'}).mean()\n",
    "    wau_column = visits[visits['source_id']==column].groupby(['year','week']).agg({'uid':'nunique'}).mean()\n",
    "    mau_column = visits[visits['source_id']==column].groupby(['year','month']).agg({'uid':'nunique'}).mean()\n",
    "    print('dau',column,'=',int(dau_column))\n",
    "    print('wau',column,'=',int(wau_column))\n",
    "    print('mau',column,'=',int(mau_column))\n",
    "    print()"
   ]
  },
  {
   "cell_type": "markdown",
   "metadata": {},
   "source": [
    "Большинство пользователей посещает сервис с копьютера/ноутбука. Рекламные источники, лидирующие по привлечению пользователей: 4, 3 и 5."
   ]
  },
  {
   "cell_type": "markdown",
   "metadata": {},
   "source": [
    "<a id='5-bullet'></a>\n",
    "#### 2.2. Сколько сессий в день?"
   ]
  },
  {
   "cell_type": "code",
   "execution_count": 20,
   "metadata": {},
   "outputs": [
    {
     "name": "stdout",
     "output_type": "stream",
     "text": [
      "В среднем в день приходится 1.08 сессий\n"
     ]
    }
   ],
   "source": [
    "# посчитаем сколько сессий приходится на каждый день \n",
    "sessions_per_user=visits.groupby('day').agg({'uid':['count','nunique']})\n",
    "sessions_per_user.columns=['n_sessions','n_users']\n",
    "sessions_per_user['sessions_per_user']=sessions_per_user['n_sessions']/sessions_per_user['n_users']\n",
    "print('В среднем в день приходится {:.2f}'.format(sessions_per_user['sessions_per_user'].mean()), 'сессий')"
   ]
  },
  {
   "cell_type": "code",
   "execution_count": 21,
   "metadata": {},
   "outputs": [
    {
     "name": "stdout",
     "output_type": "stream",
     "text": [
      "В среднем в день на touch приходится 1.05 сессий\n",
      "В среднем в день на desktop приходится 1.09 сессий\n"
     ]
    }
   ],
   "source": [
    "# посчитаем сколько сессий приходится на каждый день в зависимости от девайса\n",
    "for column in visits['device'].unique():\n",
    "    sessions_per_user=visits[visits['device']==column].groupby('day').agg({'uid':['count','nunique']})\n",
    "    sessions_per_user.columns=['n_sessions','n_users']\n",
    "    sessions_per_user['sessions_per_user']=sessions_per_user['n_sessions']/sessions_per_user['n_users']\n",
    "    print('В среднем в день на',column, 'приходится {:.2f}'.format(sessions_per_user['sessions_per_user'].mean()), 'сессий')"
   ]
  },
  {
   "cell_type": "code",
   "execution_count": 22,
   "metadata": {},
   "outputs": [
    {
     "name": "stdout",
     "output_type": "stream",
     "text": [
      "В среднем в день на пользователей с рекламным источником 4 приходится 1.02 сессий\n",
      "В среднем в день на пользователей с рекламным источником 2 приходится 1.08 сессий\n",
      "В среднем в день на пользователей с рекламным источником 5 приходится 1.05 сессий\n",
      "В среднем в день на пользователей с рекламным источником 9 приходится 1.01 сессий\n",
      "В среднем в день на пользователей с рекламным источником 3 приходится 1.01 сессий\n",
      "В среднем в день на пользователей с рекламным источником 1 приходится 1.15 сессий\n",
      "В среднем в день на пользователей с рекламным источником 10 приходится 1.05 сессий\n",
      "В среднем в день на пользователей с рекламным источником 7 приходится 1.00 сессий\n",
      "В среднем в день на пользователей с рекламным источником 6 приходится 1.00 сессий\n"
     ]
    }
   ],
   "source": [
    "# посчитаем сколько сессий приходится на каждый день в зависимости от рекламного источника\n",
    "for column in visits['source_id'].unique():\n",
    "    sessions_per_user=visits[visits['source_id']==column].groupby('day').agg({'uid':['count','nunique']})\n",
    "    sessions_per_user.columns=['n_sessions','n_users']\n",
    "    sessions_per_user['sessions_per_user']=sessions_per_user['n_sessions']/sessions_per_user['n_users']\n",
    "    print('В среднем в день на пользователей с рекламным источником',column, 'приходится {:.2f}'.format(sessions_per_user['sessions_per_user'].mean()), 'сессий')"
   ]
  },
  {
   "cell_type": "markdown",
   "metadata": {},
   "source": [
    "Пользователи с десктопа заходят чуть чаще, чем с touch.  \n",
    "Рекламный источник под идентификатором 1 побуждает людей сделать повторную сессию чаще остальных. "
   ]
  },
  {
   "cell_type": "markdown",
   "metadata": {},
   "source": [
    "<a id='6-bullet'></a>\n",
    "#### 2.3. Сколько длится одна сессия?"
   ]
  },
  {
   "cell_type": "code",
   "execution_count": 23,
   "metadata": {},
   "outputs": [],
   "source": [
    "# Посчитаем длительность \n",
    "visits['session_duration_sec']=(visits['end_ts']-visits['start_ts']).dt.seconds"
   ]
  },
  {
   "cell_type": "code",
   "execution_count": 24,
   "metadata": {},
   "outputs": [
    {
     "data": {
      "image/png": "[encoded data removed]",
      "text/plain": [
       "<Figure size 432x288 with 1 Axes>"
      ]
     },
     "metadata": {
      "needs_background": "light"
     },
     "output_type": "display_data"
    }
   ],
   "source": [
    "# Посмотрим на распределение длительности сессии\n",
    "visits['session_duration_sec'].hist(bins=30)\n",
    "plt.title('Длительность сессии')\n",
    "plt.show()"
   ]
  },
  {
   "cell_type": "markdown",
   "metadata": {},
   "source": [
    "Как можно заметить наблюдаем ненормальное распредение, соответственно будем использовать медиану в качестве меры среднего."
   ]
  },
  {
   "cell_type": "code",
   "execution_count": 25,
   "metadata": {},
   "outputs": [
    {
     "name": "stdout",
     "output_type": "stream",
     "text": [
      "В среднем сессия длится 300.0 секунд\n"
     ]
    }
   ],
   "source": [
    "# посчитаем среднюю продолжительность сессии\n",
    "print('В среднем сессия длится {:.1f}'.format(visits['session_duration_sec'].describe()[5]), 'секунд')"
   ]
  },
  {
   "cell_type": "code",
   "execution_count": 26,
   "metadata": {},
   "outputs": [
    {
     "name": "stdout",
     "output_type": "stream",
     "text": [
      "В среднем на touch сессия длится 180.0 секунд\n",
      "В среднем на desktop сессия длится 360.0 секунд\n"
     ]
    }
   ],
   "source": [
    "# посчитаем среднюю продолжительность сессии в зависимости от девайса\n",
    "for column in visits['device'].unique():\n",
    "    duration=(visits[visits['device']==column]['end_ts']-visits[visits['device']==column]['start_ts']).dt.seconds\n",
    "    print('В среднем на',column,'сессия длится {:.1f}'.format(duration.describe()[5]),'секунд')"
   ]
  },
  {
   "cell_type": "code",
   "execution_count": 27,
   "metadata": {},
   "outputs": [
    {
     "name": "stdout",
     "output_type": "stream",
     "text": [
      "В среднем с рекламным источником 4 сессия длится 240.0 секунд\n",
      "В среднем с рекламным источником 2 сессия длится 420.0 секунд\n",
      "В среднем с рекламным источником 5 сессия длится 240.0 секунд\n",
      "В среднем с рекламным источником 9 сессия длится 240.0 секунд\n",
      "В среднем с рекламным источником 3 сессия длится 240.0 секунд\n",
      "В среднем с рекламным источником 1 сессия длится 600.0 секунд\n",
      "В среднем с рекламным источником 10 сессия длится 300.0 секунд\n",
      "В среднем с рекламным источником 7 сессия длится 180.0 секунд\n",
      "В среднем с рекламным источником 6 сессия длится 420.0 секунд\n"
     ]
    }
   ],
   "source": [
    "# посчитаем среднюю продолжительность сессии в зависимости от рекламного источника\n",
    "for column in visits['source_id'].unique():\n",
    "    duration=(visits[visits['source_id']==column]['end_ts']-visits[visits['source_id']==column]['start_ts']).dt.seconds\n",
    "    print('В среднем с рекламным источником',column,'сессия длится {:.1f}'.format(duration.describe()[5]),'секунд')"
   ]
  },
  {
   "cell_type": "markdown",
   "metadata": {},
   "source": [
    "На десктопе сессия в среднем длиннее в 2 раза по сравнению с touch.\n",
    "Пользователи, привлеченные с помощью рекламных источников с идентификаторами 1, 2 и 6, демонстрируют самые длинные средние сессии."
   ]
  },
  {
   "cell_type": "markdown",
   "metadata": {},
   "source": [
    "<a id='7-bullet'></a>\n",
    "#### 2.4. Как часто люди возвращаются?"
   ]
  },
  {
   "cell_type": "code",
   "execution_count": 28,
   "metadata": {},
   "outputs": [],
   "source": [
    "# найдем дату, когда пользователь впервые проявил активность\n",
    "first_activity_date=visits.groupby(['uid'])['start_ts'].min()\n",
    "first_activity_date.name='first_activity_date'\n",
    "visits=visits.join(first_activity_date,on='uid')\n",
    "\n",
    "visits['first_activity_date']=pd.to_datetime(visits['first_activity_date'])"
   ]
  },
  {
   "cell_type": "code",
   "execution_count": 29,
   "metadata": {},
   "outputs": [],
   "source": [
    "# выделим в датах первой активности и активности месяцы \n",
    "visits['first_activity_month']=visits['first_activity_date'].astype('datetime64[M]')\n",
    "visits['activity_month']=visits['start_ts'].astype('datetime64[M]')"
   ]
  },
  {
   "cell_type": "code",
   "execution_count": 30,
   "metadata": {},
   "outputs": [],
   "source": [
    "# рассчитаем lifetime \n",
    "visits['cohort_lifetime']=visits['activity_month']-visits['first_activity_month']\n",
    "visits['cohort_lifetime']=visits['cohort_lifetime']/np.timedelta64(1,'M')\n",
    "visits['cohort_lifetime']=visits['cohort_lifetime'].round().astype('int')"
   ]
  },
  {
   "cell_type": "code",
   "execution_count": 31,
   "metadata": {},
   "outputs": [],
   "source": [
    "# посчитаем для каждой когорты количество активных пользователей на определенный \"месяц жизни\"\n",
    "cohorts = visits.groupby(['first_activity_month', 'cohort_lifetime']).agg({'uid':'nunique'}).reset_index()"
   ]
  },
  {
   "cell_type": "code",
   "execution_count": 32,
   "metadata": {},
   "outputs": [],
   "source": [
    "# найдем исходное количество пользователей в когорте\n",
    "initial_users_count = cohorts[cohorts['cohort_lifetime']==0][['first_activity_month','uid']]\n",
    "initial_users_count=initial_users_count.rename(columns={'uid':'cohort_users'})"
   ]
  },
  {
   "cell_type": "code",
   "execution_count": 33,
   "metadata": {},
   "outputs": [],
   "source": [
    "# объединим данные по когортам с исходным количеством пользователей в когорте\n",
    "cohorts = cohorts.merge(initial_users_count,on='first_activity_month')"
   ]
  },
  {
   "cell_type": "code",
   "execution_count": 34,
   "metadata": {},
   "outputs": [],
   "source": [
    "# рассчитаем retention rate \n",
    "cohorts['retention']=cohorts['uid']/cohorts['cohort_users']"
   ]
  },
  {
   "cell_type": "code",
   "execution_count": 35,
   "metadata": {},
   "outputs": [
    {
     "data": {
      "image/png": "[encoded data removed]",
      "text/plain": [
       "<Figure size 864x432 with 2 Axes>"
      ]
     },
     "metadata": {},
     "output_type": "display_data"
    }
   ],
   "source": [
    "# построим сводную таблицу\n",
    "retention_pivot=cohorts.pivot_table(index='first_activity_month',columns='cohort_lifetime', values='retention', aggfunc='sum')\n",
    "\n",
    "# построим тепловую карту\n",
    "sns.set(style='white')\n",
    "plt.figure(figsize=(12, 6))\n",
    "plt.title('Cohorts: User Retention')\n",
    "sns.heatmap(retention_pivot, annot=True, fmt='.1%', linewidths=1, linecolor='gray', vmin=0, vmax=0.1); "
   ]
  },
  {
   "cell_type": "markdown",
   "metadata": {},
   "source": [
    "Retention Rate в первый месяц убывает по когортам с течением времени. Если для когорты пользователей, пришедших в сентябре 2017г., retention rate составил 8.5%, то для пользователей, пришедших в марте 2018 - уже 4.2%. Так, за  полгода коэффициент удержания упал на 4.3%. Это говорит о том, что с каждой новой когортой поведение пользователей меняется. Возможно были выбраны неэффективные источники привлечения траффика."
   ]
  },
  {
   "cell_type": "markdown",
   "metadata": {},
   "source": [
    "##### Продажные метрики:"
   ]
  },
  {
   "cell_type": "markdown",
   "metadata": {},
   "source": [
    "<a id='8-bullet'></a>\n",
    "#### 2.5. Когда люди начинают покупать?"
   ]
  },
  {
   "cell_type": "code",
   "execution_count": 36,
   "metadata": {},
   "outputs": [],
   "source": [
    "# найдем даты первых посещений\n",
    "first_visits = visits.sort_values(by=['uid','start_ts']).groupby('uid').agg({'start_ts':'min'})\n",
    "\n",
    "# найдем даты первых покупок\n",
    "first_orders = orders.sort_values(by=['uid','buy_ts']).groupby('uid').agg({'buy_ts':'min'})\n",
    "\n",
    "# объединим даты первых посещений с первыми покупками \n",
    "total_visits = first_visits.merge(first_orders, on='uid')\n",
    "\n",
    "# найдем через сколько по времени люди совершают первую покуку после первого посещения\n",
    "total_visits['delta']=(total_visits['buy_ts']-total_visits['start_ts'])"
   ]
  },
  {
   "cell_type": "code",
   "execution_count": 37,
   "metadata": {},
   "outputs": [
    {
     "data": {
      "text/html": [
       "<div>\n",
       "<style scoped>\n",
       "    .dataframe tbody tr th:only-of-type {\n",
       "        vertical-align: middle;\n",
       "    }\n",
       "\n",
       "    .dataframe tbody tr th {\n",
       "        vertical-align: top;\n",
       "    }\n",
       "\n",
       "    .dataframe thead th {\n",
       "        text-align: right;\n",
       "    }\n",
       "</style>\n",
       "<table border=\"1\" class=\"dataframe\">\n",
       "  <thead>\n",
       "    <tr style=\"text-align: right;\">\n",
       "      <th></th>\n",
       "      <th>count</th>\n",
       "      <th>mean</th>\n",
       "      <th>std</th>\n",
       "      <th>min</th>\n",
       "      <th>25%</th>\n",
       "      <th>50%</th>\n",
       "      <th>75%</th>\n",
       "      <th>max</th>\n",
       "    </tr>\n",
       "  </thead>\n",
       "  <tbody>\n",
       "    <tr>\n",
       "      <td>delta</td>\n",
       "      <td>36523</td>\n",
       "      <td>16 days 21:40:10.550064</td>\n",
       "      <td>47 days 01:44:46.481416</td>\n",
       "      <td>0 days</td>\n",
       "      <td>00:04:00</td>\n",
       "      <td>00:16:00</td>\n",
       "      <td>2 days 00:17:00</td>\n",
       "      <td>363 days 07:04:00</td>\n",
       "    </tr>\n",
       "  </tbody>\n",
       "</table>\n",
       "</div>"
      ],
      "text/plain": [
       "       count                    mean                     std    min      25%  \\\n",
       "delta  36523 16 days 21:40:10.550064 47 days 01:44:46.481416 0 days 00:04:00   \n",
       "\n",
       "           50%             75%               max  \n",
       "delta 00:16:00 2 days 00:17:00 363 days 07:04:00  "
      ]
     },
     "execution_count": 37,
     "metadata": {},
     "output_type": "execute_result"
    }
   ],
   "source": [
    "total_visits.describe().T"
   ]
  },
  {
   "cell_type": "markdown",
   "metadata": {},
   "source": [
    "Можно считать, что в среднем от первого захода на ресурс до первой покупки проходит 16 минут. "
   ]
  },
  {
   "cell_type": "markdown",
   "metadata": {},
   "source": [
    "<a id='9-bullet'></a>\n",
    "#### 2.6. Сколько раз покупают за период?"
   ]
  },
  {
   "cell_type": "code",
   "execution_count": 38,
   "metadata": {},
   "outputs": [],
   "source": [
    "# приводим к формату даты\n",
    "orders['buy_date']=orders['buy_ts'].dt.date\n",
    "orders['buy_date']=orders['buy_ts'].dt.strftime('%Y-%m') "
   ]
  },
  {
   "cell_type": "code",
   "execution_count": 39,
   "metadata": {},
   "outputs": [
    {
     "name": "stdout",
     "output_type": "stream",
     "text": [
      "В среднем в месяц пользователи делают заказ 1.21 раза\n"
     ]
    }
   ],
   "source": [
    "# посчитаем сколько заказов в среднем приходится на пользователей\n",
    "orders_per_user=orders.groupby('buy_date').agg({'uid':['count','nunique']})\n",
    "orders_per_user.columns=['n_orders','n_users']\n",
    "orders_per_user['orders_per_user']=orders_per_user['n_orders']/orders_per_user['n_users']\n",
    "print('В среднем в месяц пользователи делают заказ {:.2f}'.format(orders_per_user['orders_per_user'].mean()), 'раза')"
   ]
  },
  {
   "cell_type": "markdown",
   "metadata": {},
   "source": [
    "Чуть больше одного заказа в месяц говорит нам о том, что в 2017-2018гг. большинство пользователей Яндекс.Афиши посещало всего лишь **одно мероприятие в месяц** (интересно посмотреть на возрастной профиль аудитории?). Соответственно более активная аудитория, которая посещает различные мероприятия, например, каждую неделю пользовалась каким-то другим сервисом при покупке билетов (или не покупала билеты онлайн?). Может быть она просто не знала о Яндекс.Афише в 2017-2018гг.?  "
   ]
  },
  {
   "cell_type": "markdown",
   "metadata": {},
   "source": [
    "<a id='10-bullet'></a>\n",
    "#### 2.7. Какой средний чек?"
   ]
  },
  {
   "cell_type": "code",
   "execution_count": 40,
   "metadata": {},
   "outputs": [
    {
     "name": "stdout",
     "output_type": "stream",
     "text": [
      "В целом, средний чек составляет 4.84\n"
     ]
    }
   ],
   "source": [
    "# посчитаем средний чек\n",
    "average_revenue=orders.groupby('buy_date').agg({'uid':'count','revenue':'sum'})\n",
    "average_revenue.columns=['n_orders','total_revenue']\n",
    "average_revenue['average_revenue']=average_revenue['total_revenue']/average_revenue['n_orders']\n",
    "print('В целом, средний чек составляет {:.2f}'.format(average_revenue['average_revenue'].mean()))"
   ]
  },
  {
   "cell_type": "code",
   "execution_count": 41,
   "metadata": {},
   "outputs": [
    {
     "data": {
      "image/png": "[encoded data removed]",
      "text/plain": [
       "<Figure size 864x144 with 1 Axes>"
      ]
     },
     "metadata": {},
     "output_type": "display_data"
    }
   ],
   "source": [
    "# посмотрим на средний чек в динамике\n",
    "average_revenue['average_revenue'].plot(kind='line', figsize=(12,2))\n",
    "plt.title('Средний чек пользователей')\n",
    "plt.show()"
   ]
  },
  {
   "cell_type": "markdown",
   "metadata": {},
   "source": [
    "В целом, средний чек пользователей находится на уровне **4.84**.   \n",
    "Из графика выше можно заметить, что **самый большой чек был в декабре 2017**, а **самый низкий в июне 2018**. \n",
    "Скорее всего это можно связать с сезонностью сферы мероприятий, потому что в прошлом году самый низкий средний чек также был в июне 2017.  \n",
    "Так, лето обычно \"мертвый\" сезон для сферы мероприятий, поэтому можно попробовать повысить продажи летом за счет промо-акций.  \n",
    "Осень-зима представляется основным периодом - большинство новых мероприятий проходит именно в этот период. "
   ]
  },
  {
   "cell_type": "markdown",
   "metadata": {},
   "source": [
    "<a id='11-bullet'></a>\n",
    "#### 2.8. Сколько денег приносят? (LTV)"
   ]
  },
  {
   "cell_type": "code",
   "execution_count": 42,
   "metadata": {},
   "outputs": [],
   "source": [
    "# выделим месяц из дат в таблицах с заказа\n",
    "orders['order_month']=orders['buy_ts'].astype('datetime64[M]')\n",
    "costs['month']=costs['dt'].astype('datetime64[M]')"
   ]
  },
  {
   "cell_type": "code",
   "execution_count": 43,
   "metadata": {},
   "outputs": [],
   "source": [
    "# получим первый месяц покупки каждого покупателя\n",
    "first_orders=orders.groupby('uid').agg({'order_month':'min'}).reset_index()\n",
    "first_orders.columns=['uid','first_order_month']"
   ]
  },
  {
   "cell_type": "code",
   "execution_count": 44,
   "metadata": {},
   "outputs": [],
   "source": [
    "# посчитаем количество новых покупателей за каждый месяц\n",
    "cohort_sizes=first_orders.groupby('first_order_month').agg({'uid':'nunique'}).reset_index()\n",
    "cohort_sizes.columns=['first_order_month','n_buyers']"
   ]
  },
  {
   "cell_type": "code",
   "execution_count": 45,
   "metadata": {},
   "outputs": [],
   "source": [
    "# добавим месяц первой покупки каждого покупателя в таблицу с заказами\n",
    "orders_new = pd.merge(orders,first_orders,on='uid')"
   ]
  },
  {
   "cell_type": "code",
   "execution_count": 46,
   "metadata": {},
   "outputs": [],
   "source": [
    "# сгруппируем таблицу заказов по месяцу первой покупки и месяцу каждого заказа и сложим выручку\n",
    "cohorts = orders_new.groupby(['first_order_month','order_month']).agg({'revenue':'sum'}).reset_index()"
   ]
  },
  {
   "cell_type": "code",
   "execution_count": 47,
   "metadata": {},
   "outputs": [],
   "source": [
    "# добавим в таблицу cohorts данные о том, сколько людей первый раз совершили покупку в каждый месяц\n",
    "report=pd.merge(cohorts,cohort_sizes,on='first_order_month')"
   ]
  },
  {
   "cell_type": "code",
   "execution_count": 48,
   "metadata": {},
   "outputs": [
    {
     "data": {
      "text/html": [
       "<div>\n",
       "<style scoped>\n",
       "    .dataframe tbody tr th:only-of-type {\n",
       "        vertical-align: middle;\n",
       "    }\n",
       "\n",
       "    .dataframe tbody tr th {\n",
       "        vertical-align: top;\n",
       "    }\n",
       "\n",
       "    .dataframe thead th {\n",
       "        text-align: right;\n",
       "    }\n",
       "</style>\n",
       "<table border=\"1\" class=\"dataframe\">\n",
       "  <thead>\n",
       "    <tr style=\"text-align: right;\">\n",
       "      <th></th>\n",
       "      <th>first_order_month</th>\n",
       "      <th>order_month</th>\n",
       "      <th>revenue</th>\n",
       "      <th>n_buyers</th>\n",
       "    </tr>\n",
       "  </thead>\n",
       "  <tbody>\n",
       "    <tr>\n",
       "      <td>0</td>\n",
       "      <td>2017-06-01</td>\n",
       "      <td>2017-06-01</td>\n",
       "      <td>9557.49</td>\n",
       "      <td>2023</td>\n",
       "    </tr>\n",
       "    <tr>\n",
       "      <td>1</td>\n",
       "      <td>2017-06-01</td>\n",
       "      <td>2017-07-01</td>\n",
       "      <td>981.82</td>\n",
       "      <td>2023</td>\n",
       "    </tr>\n",
       "    <tr>\n",
       "      <td>2</td>\n",
       "      <td>2017-06-01</td>\n",
       "      <td>2017-08-01</td>\n",
       "      <td>885.34</td>\n",
       "      <td>2023</td>\n",
       "    </tr>\n",
       "    <tr>\n",
       "      <td>3</td>\n",
       "      <td>2017-06-01</td>\n",
       "      <td>2017-09-01</td>\n",
       "      <td>1931.30</td>\n",
       "      <td>2023</td>\n",
       "    </tr>\n",
       "    <tr>\n",
       "      <td>4</td>\n",
       "      <td>2017-06-01</td>\n",
       "      <td>2017-10-01</td>\n",
       "      <td>2068.58</td>\n",
       "      <td>2023</td>\n",
       "    </tr>\n",
       "    <tr>\n",
       "      <td>...</td>\n",
       "      <td>...</td>\n",
       "      <td>...</td>\n",
       "      <td>...</td>\n",
       "      <td>...</td>\n",
       "    </tr>\n",
       "    <tr>\n",
       "      <td>74</td>\n",
       "      <td>2018-03-01</td>\n",
       "      <td>2018-05-01</td>\n",
       "      <td>1114.87</td>\n",
       "      <td>3533</td>\n",
       "    </tr>\n",
       "    <tr>\n",
       "      <td>75</td>\n",
       "      <td>2018-04-01</td>\n",
       "      <td>2018-04-01</td>\n",
       "      <td>10600.69</td>\n",
       "      <td>2276</td>\n",
       "    </tr>\n",
       "    <tr>\n",
       "      <td>76</td>\n",
       "      <td>2018-04-01</td>\n",
       "      <td>2018-05-01</td>\n",
       "      <td>1209.92</td>\n",
       "      <td>2276</td>\n",
       "    </tr>\n",
       "    <tr>\n",
       "      <td>77</td>\n",
       "      <td>2018-05-01</td>\n",
       "      <td>2018-05-01</td>\n",
       "      <td>13925.76</td>\n",
       "      <td>2988</td>\n",
       "    </tr>\n",
       "    <tr>\n",
       "      <td>78</td>\n",
       "      <td>2018-06-01</td>\n",
       "      <td>2018-06-01</td>\n",
       "      <td>3.42</td>\n",
       "      <td>1</td>\n",
       "    </tr>\n",
       "  </tbody>\n",
       "</table>\n",
       "<p>79 rows × 4 columns</p>\n",
       "</div>"
      ],
      "text/plain": [
       "   first_order_month order_month   revenue  n_buyers\n",
       "0         2017-06-01  2017-06-01   9557.49      2023\n",
       "1         2017-06-01  2017-07-01    981.82      2023\n",
       "2         2017-06-01  2017-08-01    885.34      2023\n",
       "3         2017-06-01  2017-09-01   1931.30      2023\n",
       "4         2017-06-01  2017-10-01   2068.58      2023\n",
       "..               ...         ...       ...       ...\n",
       "74        2018-03-01  2018-05-01   1114.87      3533\n",
       "75        2018-04-01  2018-04-01  10600.69      2276\n",
       "76        2018-04-01  2018-05-01   1209.92      2276\n",
       "77        2018-05-01  2018-05-01  13925.76      2988\n",
       "78        2018-06-01  2018-06-01      3.42         1\n",
       "\n",
       "[79 rows x 4 columns]"
      ]
     },
     "execution_count": 48,
     "metadata": {},
     "output_type": "execute_result"
    }
   ],
   "source": [
    "report"
   ]
  },
  {
   "cell_type": "code",
   "execution_count": 49,
   "metadata": {},
   "outputs": [],
   "source": [
    "# найдем возраст когорт\n",
    "report['age']=(report['order_month']-report['first_order_month']) / np.timedelta64(1, 'M')\n",
    "report['age']=report['age'].round().astype(int)"
   ]
  },
  {
   "cell_type": "code",
   "execution_count": 50,
   "metadata": {},
   "outputs": [],
   "source": [
    "# найдем валовую прибыль\n",
    "margin_rate = 1\n",
    "report['gp']=report['revenue'] * margin_rate"
   ]
  },
  {
   "cell_type": "code",
   "execution_count": 51,
   "metadata": {},
   "outputs": [],
   "source": [
    "# найдем LTV\n",
    "report['ltv']=report['gp']/report['n_buyers']"
   ]
  },
  {
   "cell_type": "code",
   "execution_count": 52,
   "metadata": {},
   "outputs": [
    {
     "data": {
      "text/html": [
       "<div>\n",
       "<style scoped>\n",
       "    .dataframe tbody tr th:only-of-type {\n",
       "        vertical-align: middle;\n",
       "    }\n",
       "\n",
       "    .dataframe tbody tr th {\n",
       "        vertical-align: top;\n",
       "    }\n",
       "\n",
       "    .dataframe thead th {\n",
       "        text-align: right;\n",
       "    }\n",
       "</style>\n",
       "<table border=\"1\" class=\"dataframe\">\n",
       "  <thead>\n",
       "    <tr style=\"text-align: right;\">\n",
       "      <th>age</th>\n",
       "      <th>0</th>\n",
       "      <th>1</th>\n",
       "      <th>2</th>\n",
       "      <th>3</th>\n",
       "      <th>4</th>\n",
       "      <th>5</th>\n",
       "      <th>6</th>\n",
       "      <th>7</th>\n",
       "      <th>8</th>\n",
       "      <th>9</th>\n",
       "      <th>10</th>\n",
       "      <th>11</th>\n",
       "    </tr>\n",
       "  </thead>\n",
       "  <tbody>\n",
       "    <tr>\n",
       "      <td>2017-06-01 00:00:00</td>\n",
       "      <td>4.72</td>\n",
       "      <td>5.21</td>\n",
       "      <td>5.65</td>\n",
       "      <td>6.6</td>\n",
       "      <td>7.62</td>\n",
       "      <td>8.36</td>\n",
       "      <td>9.31</td>\n",
       "      <td>9.89</td>\n",
       "      <td>10.44</td>\n",
       "      <td>11.05</td>\n",
       "      <td>11.62</td>\n",
       "      <td>11.88</td>\n",
       "    </tr>\n",
       "    <tr>\n",
       "      <td>2017-07-01 00:00:00</td>\n",
       "      <td>6.01</td>\n",
       "      <td>6.35</td>\n",
       "      <td>6.97</td>\n",
       "      <td>7.33</td>\n",
       "      <td>7.51</td>\n",
       "      <td>7.67</td>\n",
       "      <td>7.79</td>\n",
       "      <td>7.93</td>\n",
       "      <td>8.09</td>\n",
       "      <td>8.24</td>\n",
       "      <td>8.4</td>\n",
       "      <td></td>\n",
       "    </tr>\n",
       "    <tr>\n",
       "      <td>2017-08-01 00:00:00</td>\n",
       "      <td>5.28</td>\n",
       "      <td>5.75</td>\n",
       "      <td>6.21</td>\n",
       "      <td>6.6</td>\n",
       "      <td>7.09</td>\n",
       "      <td>7.37</td>\n",
       "      <td>7.58</td>\n",
       "      <td>7.99</td>\n",
       "      <td>8.28</td>\n",
       "      <td>8.47</td>\n",
       "      <td></td>\n",
       "      <td></td>\n",
       "    </tr>\n",
       "    <tr>\n",
       "      <td>2017-09-01 00:00:00</td>\n",
       "      <td>5.64</td>\n",
       "      <td>6.76</td>\n",
       "      <td>7.28</td>\n",
       "      <td>11.26</td>\n",
       "      <td>11.66</td>\n",
       "      <td>12.31</td>\n",
       "      <td>13.01</td>\n",
       "      <td>13.25</td>\n",
       "      <td>13.43</td>\n",
       "      <td></td>\n",
       "      <td></td>\n",
       "      <td></td>\n",
       "    </tr>\n",
       "    <tr>\n",
       "      <td>2017-10-01 00:00:00</td>\n",
       "      <td>5.00</td>\n",
       "      <td>5.54</td>\n",
       "      <td>5.73</td>\n",
       "      <td>5.89</td>\n",
       "      <td>6.04</td>\n",
       "      <td>6.16</td>\n",
       "      <td>6.24</td>\n",
       "      <td>6.36</td>\n",
       "      <td></td>\n",
       "      <td></td>\n",
       "      <td></td>\n",
       "      <td></td>\n",
       "    </tr>\n",
       "    <tr>\n",
       "      <td>2017-11-01 00:00:00</td>\n",
       "      <td>5.15</td>\n",
       "      <td>5.55</td>\n",
       "      <td>5.75</td>\n",
       "      <td>6.07</td>\n",
       "      <td>6.22</td>\n",
       "      <td>6.27</td>\n",
       "      <td>6.38</td>\n",
       "      <td></td>\n",
       "      <td></td>\n",
       "      <td></td>\n",
       "      <td></td>\n",
       "      <td></td>\n",
       "    </tr>\n",
       "    <tr>\n",
       "      <td>2017-12-01 00:00:00</td>\n",
       "      <td>4.74</td>\n",
       "      <td>5</td>\n",
       "      <td>5.93</td>\n",
       "      <td>7</td>\n",
       "      <td>7.31</td>\n",
       "      <td>7.65</td>\n",
       "      <td></td>\n",
       "      <td></td>\n",
       "      <td></td>\n",
       "      <td></td>\n",
       "      <td></td>\n",
       "      <td></td>\n",
       "    </tr>\n",
       "    <tr>\n",
       "      <td>2018-01-01 00:00:00</td>\n",
       "      <td>4.14</td>\n",
       "      <td>4.43</td>\n",
       "      <td>4.73</td>\n",
       "      <td>4.87</td>\n",
       "      <td>4.93</td>\n",
       "      <td></td>\n",
       "      <td></td>\n",
       "      <td></td>\n",
       "      <td></td>\n",
       "      <td></td>\n",
       "      <td></td>\n",
       "      <td></td>\n",
       "    </tr>\n",
       "    <tr>\n",
       "      <td>2018-02-01 00:00:00</td>\n",
       "      <td>4.16</td>\n",
       "      <td>4.44</td>\n",
       "      <td>4.52</td>\n",
       "      <td>4.59</td>\n",
       "      <td></td>\n",
       "      <td></td>\n",
       "      <td></td>\n",
       "      <td></td>\n",
       "      <td></td>\n",
       "      <td></td>\n",
       "      <td></td>\n",
       "      <td></td>\n",
       "    </tr>\n",
       "    <tr>\n",
       "      <td>2018-03-01 00:00:00</td>\n",
       "      <td>4.84</td>\n",
       "      <td>5.14</td>\n",
       "      <td>5.46</td>\n",
       "      <td></td>\n",
       "      <td></td>\n",
       "      <td></td>\n",
       "      <td></td>\n",
       "      <td></td>\n",
       "      <td></td>\n",
       "      <td></td>\n",
       "      <td></td>\n",
       "      <td></td>\n",
       "    </tr>\n",
       "    <tr>\n",
       "      <td>2018-04-01 00:00:00</td>\n",
       "      <td>4.66</td>\n",
       "      <td>5.19</td>\n",
       "      <td></td>\n",
       "      <td></td>\n",
       "      <td></td>\n",
       "      <td></td>\n",
       "      <td></td>\n",
       "      <td></td>\n",
       "      <td></td>\n",
       "      <td></td>\n",
       "      <td></td>\n",
       "      <td></td>\n",
       "    </tr>\n",
       "    <tr>\n",
       "      <td>2018-05-01 00:00:00</td>\n",
       "      <td>4.66</td>\n",
       "      <td></td>\n",
       "      <td></td>\n",
       "      <td></td>\n",
       "      <td></td>\n",
       "      <td></td>\n",
       "      <td></td>\n",
       "      <td></td>\n",
       "      <td></td>\n",
       "      <td></td>\n",
       "      <td></td>\n",
       "      <td></td>\n",
       "    </tr>\n",
       "    <tr>\n",
       "      <td>2018-06-01 00:00:00</td>\n",
       "      <td>3.42</td>\n",
       "      <td></td>\n",
       "      <td></td>\n",
       "      <td></td>\n",
       "      <td></td>\n",
       "      <td></td>\n",
       "      <td></td>\n",
       "      <td></td>\n",
       "      <td></td>\n",
       "      <td></td>\n",
       "      <td></td>\n",
       "      <td></td>\n",
       "    </tr>\n",
       "    <tr>\n",
       "      <td>Total</td>\n",
       "      <td>4.80</td>\n",
       "      <td>5.4</td>\n",
       "      <td>5.82</td>\n",
       "      <td>6.69</td>\n",
       "      <td>7.3</td>\n",
       "      <td>7.97</td>\n",
       "      <td>8.38</td>\n",
       "      <td>9.08</td>\n",
       "      <td>10.06</td>\n",
       "      <td>9.25</td>\n",
       "      <td>10.01</td>\n",
       "      <td>11.88</td>\n",
       "    </tr>\n",
       "  </tbody>\n",
       "</table>\n",
       "</div>"
      ],
      "text/plain": [
       "age                    0     1     2      3      4      5      6      7   \\\n",
       "2017-06-01 00:00:00  4.72  5.21  5.65    6.6   7.62   8.36   9.31   9.89   \n",
       "2017-07-01 00:00:00  6.01  6.35  6.97   7.33   7.51   7.67   7.79   7.93   \n",
       "2017-08-01 00:00:00  5.28  5.75  6.21    6.6   7.09   7.37   7.58   7.99   \n",
       "2017-09-01 00:00:00  5.64  6.76  7.28  11.26  11.66  12.31  13.01  13.25   \n",
       "2017-10-01 00:00:00  5.00  5.54  5.73   5.89   6.04   6.16   6.24   6.36   \n",
       "2017-11-01 00:00:00  5.15  5.55  5.75   6.07   6.22   6.27   6.38          \n",
       "2017-12-01 00:00:00  4.74     5  5.93      7   7.31   7.65                 \n",
       "2018-01-01 00:00:00  4.14  4.43  4.73   4.87   4.93                        \n",
       "2018-02-01 00:00:00  4.16  4.44  4.52   4.59                               \n",
       "2018-03-01 00:00:00  4.84  5.14  5.46                                      \n",
       "2018-04-01 00:00:00  4.66  5.19                                            \n",
       "2018-05-01 00:00:00  4.66                                                  \n",
       "2018-06-01 00:00:00  3.42                                                  \n",
       "Total                4.80   5.4  5.82   6.69    7.3   7.97   8.38   9.08   \n",
       "\n",
       "age                     8      9      10     11  \n",
       "2017-06-01 00:00:00  10.44  11.05  11.62  11.88  \n",
       "2017-07-01 00:00:00   8.09   8.24    8.4         \n",
       "2017-08-01 00:00:00   8.28   8.47                \n",
       "2017-09-01 00:00:00  13.43                       \n",
       "2017-10-01 00:00:00                              \n",
       "2017-11-01 00:00:00                              \n",
       "2017-12-01 00:00:00                              \n",
       "2018-01-01 00:00:00                              \n",
       "2018-02-01 00:00:00                              \n",
       "2018-03-01 00:00:00                              \n",
       "2018-04-01 00:00:00                              \n",
       "2018-05-01 00:00:00                              \n",
       "2018-06-01 00:00:00                              \n",
       "Total                10.06   9.25  10.01  11.88  "
      ]
     },
     "execution_count": 52,
     "metadata": {},
     "output_type": "execute_result"
    }
   ],
   "source": [
    "# визуализируем когорты в виде сводной таблицы\n",
    "output = report.pivot_table(\n",
    "        index='first_order_month',\n",
    "        columns='age',\n",
    "        values='ltv',\n",
    "        aggfunc='mean').round(2).cumsum(axis=1)\n",
    "\n",
    "output.append(pd.DataFrame(output.mean().to_frame(name='Total')).T).round(2).fillna('')"
   ]
  },
  {
   "cell_type": "markdown",
   "metadata": {},
   "source": [
    "В среднем каждый пользователь за год \"жизни\" приносит 11.88 выручки. "
   ]
  },
  {
   "cell_type": "markdown",
   "metadata": {},
   "source": [
    "##### Маркетинговые метрики:"
   ]
  },
  {
   "cell_type": "markdown",
   "metadata": {},
   "source": [
    "<a id='12-bullet'></a>\n",
    "#### 2.9. Сколько денег потратили? "
   ]
  },
  {
   "cell_type": "code",
   "execution_count": 53,
   "metadata": {},
   "outputs": [
    {
     "data": {
      "text/html": [
       "<div>\n",
       "<style scoped>\n",
       "    .dataframe tbody tr th:only-of-type {\n",
       "        vertical-align: middle;\n",
       "    }\n",
       "\n",
       "    .dataframe tbody tr th {\n",
       "        vertical-align: top;\n",
       "    }\n",
       "\n",
       "    .dataframe thead th {\n",
       "        text-align: right;\n",
       "    }\n",
       "</style>\n",
       "<table border=\"1\" class=\"dataframe\">\n",
       "  <thead>\n",
       "    <tr style=\"text-align: right;\">\n",
       "      <th></th>\n",
       "      <th>month</th>\n",
       "      <th>costs</th>\n",
       "    </tr>\n",
       "  </thead>\n",
       "  <tbody>\n",
       "    <tr>\n",
       "      <td>0</td>\n",
       "      <td>2017-06-01</td>\n",
       "      <td>18015.00</td>\n",
       "    </tr>\n",
       "    <tr>\n",
       "      <td>1</td>\n",
       "      <td>2017-07-01</td>\n",
       "      <td>18240.59</td>\n",
       "    </tr>\n",
       "    <tr>\n",
       "      <td>2</td>\n",
       "      <td>2017-08-01</td>\n",
       "      <td>14790.54</td>\n",
       "    </tr>\n",
       "    <tr>\n",
       "      <td>3</td>\n",
       "      <td>2017-09-01</td>\n",
       "      <td>24368.91</td>\n",
       "    </tr>\n",
       "    <tr>\n",
       "      <td>4</td>\n",
       "      <td>2017-10-01</td>\n",
       "      <td>36322.88</td>\n",
       "    </tr>\n",
       "    <tr>\n",
       "      <td>5</td>\n",
       "      <td>2017-11-01</td>\n",
       "      <td>37907.88</td>\n",
       "    </tr>\n",
       "    <tr>\n",
       "      <td>6</td>\n",
       "      <td>2017-12-01</td>\n",
       "      <td>38315.35</td>\n",
       "    </tr>\n",
       "    <tr>\n",
       "      <td>7</td>\n",
       "      <td>2018-01-01</td>\n",
       "      <td>33518.52</td>\n",
       "    </tr>\n",
       "    <tr>\n",
       "      <td>8</td>\n",
       "      <td>2018-02-01</td>\n",
       "      <td>32723.03</td>\n",
       "    </tr>\n",
       "    <tr>\n",
       "      <td>9</td>\n",
       "      <td>2018-03-01</td>\n",
       "      <td>30415.27</td>\n",
       "    </tr>\n",
       "    <tr>\n",
       "      <td>10</td>\n",
       "      <td>2018-04-01</td>\n",
       "      <td>22289.38</td>\n",
       "    </tr>\n",
       "    <tr>\n",
       "      <td>11</td>\n",
       "      <td>2018-05-01</td>\n",
       "      <td>22224.27</td>\n",
       "    </tr>\n",
       "  </tbody>\n",
       "</table>\n",
       "</div>"
      ],
      "text/plain": [
       "        month     costs\n",
       "0  2017-06-01  18015.00\n",
       "1  2017-07-01  18240.59\n",
       "2  2017-08-01  14790.54\n",
       "3  2017-09-01  24368.91\n",
       "4  2017-10-01  36322.88\n",
       "5  2017-11-01  37907.88\n",
       "6  2017-12-01  38315.35\n",
       "7  2018-01-01  33518.52\n",
       "8  2018-02-01  32723.03\n",
       "9  2018-03-01  30415.27\n",
       "10 2018-04-01  22289.38\n",
       "11 2018-05-01  22224.27"
      ]
     },
     "execution_count": 53,
     "metadata": {},
     "output_type": "execute_result"
    }
   ],
   "source": [
    "# посчитаем суммарные маркетинговые расходы на каждый месяц - по времени\n",
    "monthly_costs=costs.groupby('month').sum().reset_index()\n",
    "monthly_costs=monthly_costs.drop('source_id',axis=1)\n",
    "monthly_costs"
   ]
  },
  {
   "cell_type": "code",
   "execution_count": 54,
   "metadata": {},
   "outputs": [
    {
     "data": {
      "image/png": "[encoded data removed]",
      "text/plain": [
       "<Figure size 432x288 with 1 Axes>"
      ]
     },
     "metadata": {},
     "output_type": "display_data"
    }
   ],
   "source": [
    "# посмотрим на распределение месячных маркетинговых трат\n",
    "monthly_costs['costs'].plot()\n",
    "plt.title('Распределение маркетинговых трат по месяцам')\n",
    "plt.show()"
   ]
  },
  {
   "cell_type": "code",
   "execution_count": 55,
   "metadata": {},
   "outputs": [
    {
     "data": {
      "text/html": [
       "<div>\n",
       "<style scoped>\n",
       "    .dataframe tbody tr th:only-of-type {\n",
       "        vertical-align: middle;\n",
       "    }\n",
       "\n",
       "    .dataframe tbody tr th {\n",
       "        vertical-align: top;\n",
       "    }\n",
       "\n",
       "    .dataframe thead th {\n",
       "        text-align: right;\n",
       "    }\n",
       "</style>\n",
       "<table border=\"1\" class=\"dataframe\">\n",
       "  <thead>\n",
       "    <tr style=\"text-align: right;\">\n",
       "      <th></th>\n",
       "      <th>costs</th>\n",
       "    </tr>\n",
       "    <tr>\n",
       "      <th>source_id</th>\n",
       "      <th></th>\n",
       "    </tr>\n",
       "  </thead>\n",
       "  <tbody>\n",
       "    <tr>\n",
       "      <td>1</td>\n",
       "      <td>20833.27</td>\n",
       "    </tr>\n",
       "    <tr>\n",
       "      <td>2</td>\n",
       "      <td>42806.04</td>\n",
       "    </tr>\n",
       "    <tr>\n",
       "      <td>3</td>\n",
       "      <td>141321.63</td>\n",
       "    </tr>\n",
       "    <tr>\n",
       "      <td>4</td>\n",
       "      <td>61073.60</td>\n",
       "    </tr>\n",
       "    <tr>\n",
       "      <td>5</td>\n",
       "      <td>51757.10</td>\n",
       "    </tr>\n",
       "    <tr>\n",
       "      <td>9</td>\n",
       "      <td>5517.49</td>\n",
       "    </tr>\n",
       "    <tr>\n",
       "      <td>10</td>\n",
       "      <td>5822.49</td>\n",
       "    </tr>\n",
       "  </tbody>\n",
       "</table>\n",
       "</div>"
      ],
      "text/plain": [
       "               costs\n",
       "source_id           \n",
       "1           20833.27\n",
       "2           42806.04\n",
       "3          141321.63\n",
       "4           61073.60\n",
       "5           51757.10\n",
       "9            5517.49\n",
       "10           5822.49"
      ]
     },
     "execution_count": 55,
     "metadata": {},
     "output_type": "execute_result"
    }
   ],
   "source": [
    "# посмотрим маркетинговые расходы на каждый источник\n",
    "source_costs=costs.groupby(['source_id']).sum()\n",
    "source_costs"
   ]
  },
  {
   "cell_type": "code",
   "execution_count": 56,
   "metadata": {},
   "outputs": [
    {
     "data": {
      "image/png": "[encoded data removed]",
      "text/plain": [
       "<Figure size 432x288 with 1 Axes>"
      ]
     },
     "metadata": {},
     "output_type": "display_data"
    }
   ],
   "source": [
    "# посмотрим на распределение маркетинговых трат по источникам\n",
    "source_costs['costs'].plot(kind='bar')\n",
    "plt.title('Распределение маркетинговых трат по источникам')\n",
    "plt.show()"
   ]
  },
  {
   "cell_type": "code",
   "execution_count": 57,
   "metadata": {},
   "outputs": [
    {
     "name": "stdout",
     "output_type": "stream",
     "text": [
      "Суммарные траты на маркетинг составили 329131.62\n"
     ]
    }
   ],
   "source": [
    "print('Суммарные траты на маркетинг составили',monthly_costs['costs'].sum().round(2))"
   ]
  },
  {
   "cell_type": "markdown",
   "metadata": {},
   "source": [
    "<a id='13-bullet'></a>\n",
    "#### 2.10. Сколько стоило привлечение одного покупателя из каждого источника?"
   ]
  },
  {
   "cell_type": "code",
   "execution_count": 58,
   "metadata": {},
   "outputs": [
    {
     "data": {
      "text/html": [
       "<div>\n",
       "<style scoped>\n",
       "    .dataframe tbody tr th:only-of-type {\n",
       "        vertical-align: middle;\n",
       "    }\n",
       "\n",
       "    .dataframe tbody tr th {\n",
       "        vertical-align: top;\n",
       "    }\n",
       "\n",
       "    .dataframe thead th {\n",
       "        text-align: right;\n",
       "    }\n",
       "</style>\n",
       "<table border=\"1\" class=\"dataframe\">\n",
       "  <thead>\n",
       "    <tr style=\"text-align: right;\">\n",
       "      <th></th>\n",
       "      <th>first_order_month</th>\n",
       "      <th>order_month</th>\n",
       "      <th>revenue</th>\n",
       "      <th>n_buyers</th>\n",
       "      <th>age</th>\n",
       "      <th>gp</th>\n",
       "      <th>ltv</th>\n",
       "      <th>month</th>\n",
       "      <th>costs</th>\n",
       "      <th>cac</th>\n",
       "    </tr>\n",
       "  </thead>\n",
       "  <tbody>\n",
       "    <tr>\n",
       "      <td>0</td>\n",
       "      <td>2017-06-01</td>\n",
       "      <td>2017-06-01</td>\n",
       "      <td>9557.49</td>\n",
       "      <td>2023</td>\n",
       "      <td>0</td>\n",
       "      <td>9557.49</td>\n",
       "      <td>4.724414</td>\n",
       "      <td>2017-06-01</td>\n",
       "      <td>18015.0</td>\n",
       "      <td>8.905091</td>\n",
       "    </tr>\n",
       "    <tr>\n",
       "      <td>1</td>\n",
       "      <td>2017-06-01</td>\n",
       "      <td>2017-07-01</td>\n",
       "      <td>981.82</td>\n",
       "      <td>2023</td>\n",
       "      <td>1</td>\n",
       "      <td>981.82</td>\n",
       "      <td>0.485329</td>\n",
       "      <td>2017-06-01</td>\n",
       "      <td>18015.0</td>\n",
       "      <td>8.905091</td>\n",
       "    </tr>\n",
       "    <tr>\n",
       "      <td>2</td>\n",
       "      <td>2017-06-01</td>\n",
       "      <td>2017-08-01</td>\n",
       "      <td>885.34</td>\n",
       "      <td>2023</td>\n",
       "      <td>2</td>\n",
       "      <td>885.34</td>\n",
       "      <td>0.437637</td>\n",
       "      <td>2017-06-01</td>\n",
       "      <td>18015.0</td>\n",
       "      <td>8.905091</td>\n",
       "    </tr>\n",
       "    <tr>\n",
       "      <td>3</td>\n",
       "      <td>2017-06-01</td>\n",
       "      <td>2017-09-01</td>\n",
       "      <td>1931.30</td>\n",
       "      <td>2023</td>\n",
       "      <td>3</td>\n",
       "      <td>1931.30</td>\n",
       "      <td>0.954671</td>\n",
       "      <td>2017-06-01</td>\n",
       "      <td>18015.0</td>\n",
       "      <td>8.905091</td>\n",
       "    </tr>\n",
       "    <tr>\n",
       "      <td>4</td>\n",
       "      <td>2017-06-01</td>\n",
       "      <td>2017-10-01</td>\n",
       "      <td>2068.58</td>\n",
       "      <td>2023</td>\n",
       "      <td>4</td>\n",
       "      <td>2068.58</td>\n",
       "      <td>1.022531</td>\n",
       "      <td>2017-06-01</td>\n",
       "      <td>18015.0</td>\n",
       "      <td>8.905091</td>\n",
       "    </tr>\n",
       "  </tbody>\n",
       "</table>\n",
       "</div>"
      ],
      "text/plain": [
       "  first_order_month order_month  revenue  n_buyers  age       gp       ltv  \\\n",
       "0        2017-06-01  2017-06-01  9557.49      2023    0  9557.49  4.724414   \n",
       "1        2017-06-01  2017-07-01   981.82      2023    1   981.82  0.485329   \n",
       "2        2017-06-01  2017-08-01   885.34      2023    2   885.34  0.437637   \n",
       "3        2017-06-01  2017-09-01  1931.30      2023    3  1931.30  0.954671   \n",
       "4        2017-06-01  2017-10-01  2068.58      2023    4  2068.58  1.022531   \n",
       "\n",
       "       month    costs       cac  \n",
       "0 2017-06-01  18015.0  8.905091  \n",
       "1 2017-06-01  18015.0  8.905091  \n",
       "2 2017-06-01  18015.0  8.905091  \n",
       "3 2017-06-01  18015.0  8.905091  \n",
       "4 2017-06-01  18015.0  8.905091  "
      ]
     },
     "execution_count": 58,
     "metadata": {},
     "output_type": "execute_result"
    }
   ],
   "source": [
    "# добавим к отчету данные о расходах и посчитаем cac\n",
    "report_new = pd.merge(report, monthly_costs, left_on='first_order_month', right_on='month')\n",
    "report_new['cac']=report_new['costs']/report_new['n_buyers']\n",
    "report_new.head()"
   ]
  },
  {
   "cell_type": "markdown",
   "metadata": {},
   "source": [
    "Далее, для дальнейших расчетов создадим профиль пользователей, содержащий устройство, источник и стоимость привлечения. На основе этого профиля будем расчитывать ROI по устройствам и источникам."
   ]
  },
  {
   "cell_type": "code",
   "execution_count": 59,
   "metadata": {},
   "outputs": [],
   "source": [
    "costs=costs.rename(columns={'dt':'obtain_date'})"
   ]
  },
  {
   "cell_type": "code",
   "execution_count": 60,
   "metadata": {},
   "outputs": [
    {
     "data": {
      "text/html": [
       "<div>\n",
       "<style scoped>\n",
       "    .dataframe tbody tr th:only-of-type {\n",
       "        vertical-align: middle;\n",
       "    }\n",
       "\n",
       "    .dataframe tbody tr th {\n",
       "        vertical-align: top;\n",
       "    }\n",
       "\n",
       "    .dataframe thead th {\n",
       "        text-align: right;\n",
       "    }\n",
       "</style>\n",
       "<table border=\"1\" class=\"dataframe\">\n",
       "  <thead>\n",
       "    <tr style=\"text-align: right;\">\n",
       "      <th></th>\n",
       "      <th>obtain_ts</th>\n",
       "      <th>obtain_date</th>\n",
       "      <th>obtain_month</th>\n",
       "      <th>source_id</th>\n",
       "      <th>device</th>\n",
       "      <th>obtain_cost</th>\n",
       "    </tr>\n",
       "    <tr>\n",
       "      <th>uid</th>\n",
       "      <th></th>\n",
       "      <th></th>\n",
       "      <th></th>\n",
       "      <th></th>\n",
       "      <th></th>\n",
       "      <th></th>\n",
       "    </tr>\n",
       "  </thead>\n",
       "  <tbody>\n",
       "    <tr>\n",
       "      <td>469568501030474895</td>\n",
       "      <td>2017-06-01 05:30:00</td>\n",
       "      <td>2017-06-01</td>\n",
       "      <td>2017-06-01</td>\n",
       "      <td>1</td>\n",
       "      <td>desktop</td>\n",
       "      <td>1.6</td>\n",
       "    </tr>\n",
       "    <tr>\n",
       "      <td>618675438905551322</td>\n",
       "      <td>2017-06-01 02:37:00</td>\n",
       "      <td>2017-06-01</td>\n",
       "      <td>2017-06-01</td>\n",
       "      <td>1</td>\n",
       "      <td>touch</td>\n",
       "      <td>1.6</td>\n",
       "    </tr>\n",
       "    <tr>\n",
       "      <td>1074355127080856382</td>\n",
       "      <td>2017-06-01 09:21:00</td>\n",
       "      <td>2017-06-01</td>\n",
       "      <td>2017-06-01</td>\n",
       "      <td>1</td>\n",
       "      <td>desktop</td>\n",
       "      <td>1.6</td>\n",
       "    </tr>\n",
       "    <tr>\n",
       "      <td>1292867924428534308</td>\n",
       "      <td>2017-06-01 12:53:00</td>\n",
       "      <td>2017-06-01</td>\n",
       "      <td>2017-06-01</td>\n",
       "      <td>1</td>\n",
       "      <td>desktop</td>\n",
       "      <td>1.6</td>\n",
       "    </tr>\n",
       "    <tr>\n",
       "      <td>1548840741623289234</td>\n",
       "      <td>2017-06-01 01:18:00</td>\n",
       "      <td>2017-06-01</td>\n",
       "      <td>2017-06-01</td>\n",
       "      <td>1</td>\n",
       "      <td>desktop</td>\n",
       "      <td>1.6</td>\n",
       "    </tr>\n",
       "  </tbody>\n",
       "</table>\n",
       "</div>"
      ],
      "text/plain": [
       "                              obtain_ts obtain_date obtain_month  source_id  \\\n",
       "uid                                                                           \n",
       "469568501030474895  2017-06-01 05:30:00  2017-06-01   2017-06-01          1   \n",
       "618675438905551322  2017-06-01 02:37:00  2017-06-01   2017-06-01          1   \n",
       "1074355127080856382 2017-06-01 09:21:00  2017-06-01   2017-06-01          1   \n",
       "1292867924428534308 2017-06-01 12:53:00  2017-06-01   2017-06-01          1   \n",
       "1548840741623289234 2017-06-01 01:18:00  2017-06-01   2017-06-01          1   \n",
       "\n",
       "                      device  obtain_cost  \n",
       "uid                                        \n",
       "469568501030474895   desktop          1.6  \n",
       "618675438905551322     touch          1.6  \n",
       "1074355127080856382  desktop          1.6  \n",
       "1292867924428534308  desktop          1.6  \n",
       "1548840741623289234  desktop          1.6  "
      ]
     },
     "execution_count": 60,
     "metadata": {},
     "output_type": "execute_result"
    }
   ],
   "source": [
    "# строим профили пользователей\n",
    "users=(visits.sort_values(by=['uid','start_ts']).groupby('uid')\n",
    "             .agg({'start_ts':'first','source_id':'first','device':'first'})\n",
    "             .rename(columns={'start_ts':'obtain_ts'}))\n",
    "users['obtain_date']=users['obtain_ts'].dt.date\n",
    "users['obtain_month']=users['obtain_ts'].astype('datetime64[M]')\n",
    "users=(users.reset_index().set_index(['source_id','obtain_date'])\n",
    "            .join(costs.set_index(['source_id','obtain_date']), how='left'))\n",
    "\n",
    "\n",
    "# добавляем стоимость приобретения индвидуального пользователя\n",
    "user_cost=(users.groupby(['source_id','obtain_date']).agg({'device':'count','costs':'max'})\n",
    "                .rename(columns={'device':'users'}))\n",
    "user_cost['obtain_cost']=user_cost['costs']/user_cost['users']\n",
    "\n",
    "# прикрепляем цену к каждому пользователю\n",
    "users=users.join(user_cost[['obtain_cost']], how = 'left')\n",
    "users=users.reset_index().set_index('uid')[['obtain_ts','obtain_date','obtain_month','source_id','device','obtain_cost']]\n",
    "users.head()"
   ]
  },
  {
   "cell_type": "markdown",
   "metadata": {},
   "source": [
    "<a id='14-bullet'></a>\n",
    "#### 2.11. На сколько окупились расходы? (ROI)"
   ]
  },
  {
   "cell_type": "code",
   "execution_count": 61,
   "metadata": {},
   "outputs": [],
   "source": [
    "# посчитаем romi в целом\n",
    "report_new['romi']=report_new['ltv']/report_new['cac']"
   ]
  },
  {
   "cell_type": "code",
   "execution_count": 62,
   "metadata": {},
   "outputs": [
    {
     "data": {
      "text/html": [
       "<div>\n",
       "<style scoped>\n",
       "    .dataframe tbody tr th:only-of-type {\n",
       "        vertical-align: middle;\n",
       "    }\n",
       "\n",
       "    .dataframe tbody tr th {\n",
       "        vertical-align: top;\n",
       "    }\n",
       "\n",
       "    .dataframe thead th {\n",
       "        text-align: right;\n",
       "    }\n",
       "</style>\n",
       "<table border=\"1\" class=\"dataframe\">\n",
       "  <thead>\n",
       "    <tr style=\"text-align: right;\">\n",
       "      <th>age</th>\n",
       "      <th>0</th>\n",
       "      <th>1</th>\n",
       "      <th>2</th>\n",
       "      <th>3</th>\n",
       "      <th>4</th>\n",
       "      <th>5</th>\n",
       "      <th>6</th>\n",
       "      <th>7</th>\n",
       "      <th>8</th>\n",
       "      <th>9</th>\n",
       "      <th>10</th>\n",
       "      <th>11</th>\n",
       "    </tr>\n",
       "  </thead>\n",
       "  <tbody>\n",
       "    <tr>\n",
       "      <td>2017-06-01 00:00:00</td>\n",
       "      <td>0.53</td>\n",
       "      <td>0.59</td>\n",
       "      <td>0.63</td>\n",
       "      <td>0.74</td>\n",
       "      <td>0.86</td>\n",
       "      <td>0.94</td>\n",
       "      <td>1.05</td>\n",
       "      <td>1.11</td>\n",
       "      <td>1.17</td>\n",
       "      <td>1.24</td>\n",
       "      <td>1.31</td>\n",
       "      <td>1.33</td>\n",
       "    </tr>\n",
       "    <tr>\n",
       "      <td>2017-07-01 00:00:00</td>\n",
       "      <td>0.63</td>\n",
       "      <td>0.67</td>\n",
       "      <td>0.73</td>\n",
       "      <td>0.77</td>\n",
       "      <td>0.79</td>\n",
       "      <td>0.81</td>\n",
       "      <td>0.82</td>\n",
       "      <td>0.84</td>\n",
       "      <td>0.85</td>\n",
       "      <td>0.87</td>\n",
       "      <td>0.88</td>\n",
       "      <td></td>\n",
       "    </tr>\n",
       "    <tr>\n",
       "      <td>2017-08-01 00:00:00</td>\n",
       "      <td>0.49</td>\n",
       "      <td>0.53</td>\n",
       "      <td>0.57</td>\n",
       "      <td>0.61</td>\n",
       "      <td>0.66</td>\n",
       "      <td>0.68</td>\n",
       "      <td>0.7</td>\n",
       "      <td>0.74</td>\n",
       "      <td>0.77</td>\n",
       "      <td>0.78</td>\n",
       "      <td></td>\n",
       "      <td></td>\n",
       "    </tr>\n",
       "    <tr>\n",
       "      <td>2017-09-01 00:00:00</td>\n",
       "      <td>0.60</td>\n",
       "      <td>0.72</td>\n",
       "      <td>0.77</td>\n",
       "      <td>1.19</td>\n",
       "      <td>1.23</td>\n",
       "      <td>1.3</td>\n",
       "      <td>1.38</td>\n",
       "      <td>1.4</td>\n",
       "      <td>1.42</td>\n",
       "      <td></td>\n",
       "      <td></td>\n",
       "      <td></td>\n",
       "    </tr>\n",
       "    <tr>\n",
       "      <td>2017-10-01 00:00:00</td>\n",
       "      <td>0.60</td>\n",
       "      <td>0.66</td>\n",
       "      <td>0.68</td>\n",
       "      <td>0.7</td>\n",
       "      <td>0.72</td>\n",
       "      <td>0.74</td>\n",
       "      <td>0.75</td>\n",
       "      <td>0.76</td>\n",
       "      <td></td>\n",
       "      <td></td>\n",
       "      <td></td>\n",
       "      <td></td>\n",
       "    </tr>\n",
       "    <tr>\n",
       "      <td>2017-11-01 00:00:00</td>\n",
       "      <td>0.55</td>\n",
       "      <td>0.6</td>\n",
       "      <td>0.62</td>\n",
       "      <td>0.65</td>\n",
       "      <td>0.67</td>\n",
       "      <td>0.68</td>\n",
       "      <td>0.69</td>\n",
       "      <td></td>\n",
       "      <td></td>\n",
       "      <td></td>\n",
       "      <td></td>\n",
       "      <td></td>\n",
       "    </tr>\n",
       "    <tr>\n",
       "      <td>2017-12-01 00:00:00</td>\n",
       "      <td>0.54</td>\n",
       "      <td>0.57</td>\n",
       "      <td>0.68</td>\n",
       "      <td>0.8</td>\n",
       "      <td>0.84</td>\n",
       "      <td>0.87</td>\n",
       "      <td></td>\n",
       "      <td></td>\n",
       "      <td></td>\n",
       "      <td></td>\n",
       "      <td></td>\n",
       "      <td></td>\n",
       "    </tr>\n",
       "    <tr>\n",
       "      <td>2018-01-01 00:00:00</td>\n",
       "      <td>0.42</td>\n",
       "      <td>0.45</td>\n",
       "      <td>0.48</td>\n",
       "      <td>0.49</td>\n",
       "      <td>0.5</td>\n",
       "      <td></td>\n",
       "      <td></td>\n",
       "      <td></td>\n",
       "      <td></td>\n",
       "      <td></td>\n",
       "      <td></td>\n",
       "      <td></td>\n",
       "    </tr>\n",
       "    <tr>\n",
       "      <td>2018-02-01 00:00:00</td>\n",
       "      <td>0.46</td>\n",
       "      <td>0.49</td>\n",
       "      <td>0.5</td>\n",
       "      <td>0.51</td>\n",
       "      <td></td>\n",
       "      <td></td>\n",
       "      <td></td>\n",
       "      <td></td>\n",
       "      <td></td>\n",
       "      <td></td>\n",
       "      <td></td>\n",
       "      <td></td>\n",
       "    </tr>\n",
       "    <tr>\n",
       "      <td>2018-03-01 00:00:00</td>\n",
       "      <td>0.56</td>\n",
       "      <td>0.6</td>\n",
       "      <td>0.63</td>\n",
       "      <td></td>\n",
       "      <td></td>\n",
       "      <td></td>\n",
       "      <td></td>\n",
       "      <td></td>\n",
       "      <td></td>\n",
       "      <td></td>\n",
       "      <td></td>\n",
       "      <td></td>\n",
       "    </tr>\n",
       "    <tr>\n",
       "      <td>2018-04-01 00:00:00</td>\n",
       "      <td>0.48</td>\n",
       "      <td>0.53</td>\n",
       "      <td></td>\n",
       "      <td></td>\n",
       "      <td></td>\n",
       "      <td></td>\n",
       "      <td></td>\n",
       "      <td></td>\n",
       "      <td></td>\n",
       "      <td></td>\n",
       "      <td></td>\n",
       "      <td></td>\n",
       "    </tr>\n",
       "    <tr>\n",
       "      <td>2018-05-01 00:00:00</td>\n",
       "      <td>0.63</td>\n",
       "      <td></td>\n",
       "      <td></td>\n",
       "      <td></td>\n",
       "      <td></td>\n",
       "      <td></td>\n",
       "      <td></td>\n",
       "      <td></td>\n",
       "      <td></td>\n",
       "      <td></td>\n",
       "      <td></td>\n",
       "      <td></td>\n",
       "    </tr>\n",
       "    <tr>\n",
       "      <td>Total</td>\n",
       "      <td>0.54</td>\n",
       "      <td>0.58</td>\n",
       "      <td>0.63</td>\n",
       "      <td>0.72</td>\n",
       "      <td>0.78</td>\n",
       "      <td>0.86</td>\n",
       "      <td>0.9</td>\n",
       "      <td>0.97</td>\n",
       "      <td>1.05</td>\n",
       "      <td>0.96</td>\n",
       "      <td>1.1</td>\n",
       "      <td>1.33</td>\n",
       "    </tr>\n",
       "  </tbody>\n",
       "</table>\n",
       "</div>"
      ],
      "text/plain": [
       "age                    0     1     2     3     4     5     6     7     8   \\\n",
       "2017-06-01 00:00:00  0.53  0.59  0.63  0.74  0.86  0.94  1.05  1.11  1.17   \n",
       "2017-07-01 00:00:00  0.63  0.67  0.73  0.77  0.79  0.81  0.82  0.84  0.85   \n",
       "2017-08-01 00:00:00  0.49  0.53  0.57  0.61  0.66  0.68   0.7  0.74  0.77   \n",
       "2017-09-01 00:00:00  0.60  0.72  0.77  1.19  1.23   1.3  1.38   1.4  1.42   \n",
       "2017-10-01 00:00:00  0.60  0.66  0.68   0.7  0.72  0.74  0.75  0.76         \n",
       "2017-11-01 00:00:00  0.55   0.6  0.62  0.65  0.67  0.68  0.69               \n",
       "2017-12-01 00:00:00  0.54  0.57  0.68   0.8  0.84  0.87                     \n",
       "2018-01-01 00:00:00  0.42  0.45  0.48  0.49   0.5                           \n",
       "2018-02-01 00:00:00  0.46  0.49   0.5  0.51                                 \n",
       "2018-03-01 00:00:00  0.56   0.6  0.63                                       \n",
       "2018-04-01 00:00:00  0.48  0.53                                             \n",
       "2018-05-01 00:00:00  0.63                                                   \n",
       "Total                0.54  0.58  0.63  0.72  0.78  0.86   0.9  0.97  1.05   \n",
       "\n",
       "age                    9     10    11  \n",
       "2017-06-01 00:00:00  1.24  1.31  1.33  \n",
       "2017-07-01 00:00:00  0.87  0.88        \n",
       "2017-08-01 00:00:00  0.78              \n",
       "2017-09-01 00:00:00                    \n",
       "2017-10-01 00:00:00                    \n",
       "2017-11-01 00:00:00                    \n",
       "2017-12-01 00:00:00                    \n",
       "2018-01-01 00:00:00                    \n",
       "2018-02-01 00:00:00                    \n",
       "2018-03-01 00:00:00                    \n",
       "2018-04-01 00:00:00                    \n",
       "2018-05-01 00:00:00                    \n",
       "Total                0.96   1.1  1.33  "
      ]
     },
     "execution_count": 62,
     "metadata": {},
     "output_type": "execute_result"
    }
   ],
   "source": [
    "# построим сводную таблицу\n",
    "output_new=report_new.pivot_table(\n",
    "        index='first_order_month',\n",
    "        columns='age',\n",
    "        values='romi',\n",
    "        aggfunc='mean').cumsum(axis=1).round(2)\n",
    "output_new.append(pd.DataFrame(output_new.mean().to_frame(name='Total')).T).round(2).fillna('')"
   ]
  },
  {
   "cell_type": "markdown",
   "metadata": {},
   "source": [
    "В среднем когорты окупаются к концу 7 месяца."
   ]
  },
  {
   "cell_type": "markdown",
   "metadata": {},
   "source": [
    "Далее, посчитаем Romi относительно устройств:"
   ]
  },
  {
   "cell_type": "code",
   "execution_count": 63,
   "metadata": {},
   "outputs": [],
   "source": [
    "dimensions=['device']\n",
    "\n",
    "# создадим когорты по устройствам, используя ранее созданный профиль пользователей\n",
    "cohorts_devices=(users.groupby(dimensions)\n",
    "              .agg({'source_id':'count','obtain_cost':'sum'}).round(2)\n",
    "              .rename(columns={'source_id':'cohort_size'}))"
   ]
  },
  {
   "cell_type": "code",
   "execution_count": 64,
   "metadata": {},
   "outputs": [],
   "source": [
    "# считаем LTV\n",
    "device_ltv=orders.set_index('uid').join(users,how='left')[['obtain_month','source_id','device','order_month','revenue']]\n",
    "device_ltv['order_month']=pd.to_datetime(device_ltv['order_month'])\n",
    "device_ltv['age']=((device_ltv['order_month']-device_ltv['obtain_month'])/np.timedelta64(1,'M')).round().astype('int')\n",
    "\n",
    "device_ltv=device_ltv.groupby(dimensions + ['age']).agg({'revenue':'sum'})\n",
    "\n",
    "device_ltv=device_ltv.pivot_table(index='device', columns='age',values='revenue',aggfunc='sum')\n",
    "device_ltv=device_ltv.cumsum(axis=1)\n",
    "device_ltv=cohorts_devices[['cohort_size']].join(device_ltv)\n",
    "device_ltv=device_ltv.div(device_ltv['cohort_size'],axis=0).drop(columns=['cohort_size']).round(2)"
   ]
  },
  {
   "cell_type": "code",
   "execution_count": 65,
   "metadata": {},
   "outputs": [
    {
     "data": {
      "text/html": [
       "<div>\n",
       "<style scoped>\n",
       "    .dataframe tbody tr th:only-of-type {\n",
       "        vertical-align: middle;\n",
       "    }\n",
       "\n",
       "    .dataframe tbody tr th {\n",
       "        vertical-align: top;\n",
       "    }\n",
       "\n",
       "    .dataframe thead th {\n",
       "        text-align: right;\n",
       "    }\n",
       "</style>\n",
       "<table border=\"1\" class=\"dataframe\">\n",
       "  <thead>\n",
       "    <tr style=\"text-align: right;\">\n",
       "      <th></th>\n",
       "      <th>0</th>\n",
       "      <th>1</th>\n",
       "      <th>2</th>\n",
       "      <th>3</th>\n",
       "      <th>4</th>\n",
       "      <th>5</th>\n",
       "      <th>6</th>\n",
       "      <th>7</th>\n",
       "      <th>8</th>\n",
       "      <th>9</th>\n",
       "      <th>10</th>\n",
       "      <th>11</th>\n",
       "    </tr>\n",
       "    <tr>\n",
       "      <th>device</th>\n",
       "      <th></th>\n",
       "      <th></th>\n",
       "      <th></th>\n",
       "      <th></th>\n",
       "      <th></th>\n",
       "      <th></th>\n",
       "      <th></th>\n",
       "      <th></th>\n",
       "      <th></th>\n",
       "      <th></th>\n",
       "      <th></th>\n",
       "      <th></th>\n",
       "    </tr>\n",
       "  </thead>\n",
       "  <tbody>\n",
       "    <tr>\n",
       "      <td>desktop</td>\n",
       "      <td>0.73</td>\n",
       "      <td>0.84</td>\n",
       "      <td>0.92</td>\n",
       "      <td>1.07</td>\n",
       "      <td>1.13</td>\n",
       "      <td>1.18</td>\n",
       "      <td>1.22</td>\n",
       "      <td>1.25</td>\n",
       "      <td>1.27</td>\n",
       "      <td>1.29</td>\n",
       "      <td>1.3</td>\n",
       "      <td>1.31</td>\n",
       "    </tr>\n",
       "    <tr>\n",
       "      <td>touch</td>\n",
       "      <td>0.37</td>\n",
       "      <td>0.45</td>\n",
       "      <td>0.48</td>\n",
       "      <td>0.50</td>\n",
       "      <td>0.52</td>\n",
       "      <td>0.54</td>\n",
       "      <td>0.55</td>\n",
       "      <td>0.57</td>\n",
       "      <td>0.58</td>\n",
       "      <td>0.60</td>\n",
       "      <td>0.6</td>\n",
       "      <td>0.60</td>\n",
       "    </tr>\n",
       "  </tbody>\n",
       "</table>\n",
       "</div>"
      ],
      "text/plain": [
       "           0     1     2     3     4     5     6     7     8     9    10    11\n",
       "device                                                                        \n",
       "desktop  0.73  0.84  0.92  1.07  1.13  1.18  1.22  1.25  1.27  1.29  1.3  1.31\n",
       "touch    0.37  0.45  0.48  0.50  0.52  0.54  0.55  0.57  0.58  0.60  0.6  0.60"
      ]
     },
     "execution_count": 65,
     "metadata": {},
     "output_type": "execute_result"
    }
   ],
   "source": [
    "device_ltv"
   ]
  },
  {
   "cell_type": "code",
   "execution_count": 66,
   "metadata": {},
   "outputs": [
    {
     "data": {
      "image/png": "[encoded data removed]",
      "text/plain": [
       "<Figure size 432x288 with 1 Axes>"
      ]
     },
     "metadata": {},
     "output_type": "display_data"
    }
   ],
   "source": [
    "device_ltv.T.plot()\n",
    "plt.title('LTV по девайсам')\n",
    "plt.show()"
   ]
  },
  {
   "cell_type": "code",
   "execution_count": 67,
   "metadata": {},
   "outputs": [],
   "source": [
    "# добавим в когорты по девайсам CAC\n",
    "cohorts_devices['cac']=cohorts_devices['obtain_cost']/cohorts_devices['cohort_size']"
   ]
  },
  {
   "cell_type": "code",
   "execution_count": 68,
   "metadata": {},
   "outputs": [
    {
     "data": {
      "text/html": [
       "<div>\n",
       "<style scoped>\n",
       "    .dataframe tbody tr th:only-of-type {\n",
       "        vertical-align: middle;\n",
       "    }\n",
       "\n",
       "    .dataframe tbody tr th {\n",
       "        vertical-align: top;\n",
       "    }\n",
       "\n",
       "    .dataframe thead th {\n",
       "        text-align: right;\n",
       "    }\n",
       "</style>\n",
       "<table border=\"1\" class=\"dataframe\">\n",
       "  <thead>\n",
       "    <tr style=\"text-align: right;\">\n",
       "      <th></th>\n",
       "      <th>cohort_size</th>\n",
       "      <th>obtain_cost</th>\n",
       "      <th>cac</th>\n",
       "    </tr>\n",
       "    <tr>\n",
       "      <th>device</th>\n",
       "      <th></th>\n",
       "      <th></th>\n",
       "      <th></th>\n",
       "    </tr>\n",
       "  </thead>\n",
       "  <tbody>\n",
       "    <tr>\n",
       "      <td>desktop</td>\n",
       "      <td>160795</td>\n",
       "      <td>235065.75</td>\n",
       "      <td>1.461897</td>\n",
       "    </tr>\n",
       "    <tr>\n",
       "      <td>touch</td>\n",
       "      <td>67374</td>\n",
       "      <td>94000.73</td>\n",
       "      <td>1.395208</td>\n",
       "    </tr>\n",
       "  </tbody>\n",
       "</table>\n",
       "</div>"
      ],
      "text/plain": [
       "         cohort_size  obtain_cost       cac\n",
       "device                                     \n",
       "desktop       160795    235065.75  1.461897\n",
       "touch          67374     94000.73  1.395208"
      ]
     },
     "execution_count": 68,
     "metadata": {},
     "output_type": "execute_result"
    }
   ],
   "source": [
    "cohorts_devices"
   ]
  },
  {
   "cell_type": "code",
   "execution_count": 69,
   "metadata": {},
   "outputs": [],
   "source": [
    "# посчитаем romi в разрезе устройств\n",
    "device_romi=device_ltv.merge(cohorts_devices,on='device',how='left')\n",
    "\n",
    "device_romi=device_romi.div(cohorts_devices['cac'],axis=0).drop(columns=['cohort_size','cac','obtain_cost']).round(2)"
   ]
  },
  {
   "cell_type": "code",
   "execution_count": 70,
   "metadata": {},
   "outputs": [
    {
     "data": {
      "text/html": [
       "<div>\n",
       "<style scoped>\n",
       "    .dataframe tbody tr th:only-of-type {\n",
       "        vertical-align: middle;\n",
       "    }\n",
       "\n",
       "    .dataframe tbody tr th {\n",
       "        vertical-align: top;\n",
       "    }\n",
       "\n",
       "    .dataframe thead th {\n",
       "        text-align: right;\n",
       "    }\n",
       "</style>\n",
       "<table border=\"1\" class=\"dataframe\">\n",
       "  <thead>\n",
       "    <tr style=\"text-align: right;\">\n",
       "      <th></th>\n",
       "      <th>0</th>\n",
       "      <th>1</th>\n",
       "      <th>2</th>\n",
       "      <th>3</th>\n",
       "      <th>4</th>\n",
       "      <th>5</th>\n",
       "      <th>6</th>\n",
       "      <th>7</th>\n",
       "      <th>8</th>\n",
       "      <th>9</th>\n",
       "      <th>10</th>\n",
       "      <th>11</th>\n",
       "    </tr>\n",
       "    <tr>\n",
       "      <th>device</th>\n",
       "      <th></th>\n",
       "      <th></th>\n",
       "      <th></th>\n",
       "      <th></th>\n",
       "      <th></th>\n",
       "      <th></th>\n",
       "      <th></th>\n",
       "      <th></th>\n",
       "      <th></th>\n",
       "      <th></th>\n",
       "      <th></th>\n",
       "      <th></th>\n",
       "    </tr>\n",
       "  </thead>\n",
       "  <tbody>\n",
       "    <tr>\n",
       "      <td>desktop</td>\n",
       "      <td>0.50</td>\n",
       "      <td>0.57</td>\n",
       "      <td>0.63</td>\n",
       "      <td>0.73</td>\n",
       "      <td>0.77</td>\n",
       "      <td>0.81</td>\n",
       "      <td>0.83</td>\n",
       "      <td>0.86</td>\n",
       "      <td>0.87</td>\n",
       "      <td>0.88</td>\n",
       "      <td>0.89</td>\n",
       "      <td>0.90</td>\n",
       "    </tr>\n",
       "    <tr>\n",
       "      <td>touch</td>\n",
       "      <td>0.27</td>\n",
       "      <td>0.32</td>\n",
       "      <td>0.34</td>\n",
       "      <td>0.36</td>\n",
       "      <td>0.37</td>\n",
       "      <td>0.39</td>\n",
       "      <td>0.39</td>\n",
       "      <td>0.41</td>\n",
       "      <td>0.42</td>\n",
       "      <td>0.43</td>\n",
       "      <td>0.43</td>\n",
       "      <td>0.43</td>\n",
       "    </tr>\n",
       "  </tbody>\n",
       "</table>\n",
       "</div>"
      ],
      "text/plain": [
       "           0     1     2     3     4     5     6     7     8     9     10  \\\n",
       "device                                                                      \n",
       "desktop  0.50  0.57  0.63  0.73  0.77  0.81  0.83  0.86  0.87  0.88  0.89   \n",
       "touch    0.27  0.32  0.34  0.36  0.37  0.39  0.39  0.41  0.42  0.43  0.43   \n",
       "\n",
       "           11  \n",
       "device         \n",
       "desktop  0.90  \n",
       "touch    0.43  "
      ]
     },
     "execution_count": 70,
     "metadata": {},
     "output_type": "execute_result"
    }
   ],
   "source": [
    "device_romi"
   ]
  },
  {
   "cell_type": "markdown",
   "metadata": {},
   "source": [
    "На десктопе окупаемость почти происходит только на 11 месяце жизни, на touch - привлечение пользователей не окупается."
   ]
  },
  {
   "cell_type": "code",
   "execution_count": 71,
   "metadata": {},
   "outputs": [],
   "source": [
    "dimensions2=['source_id']\n",
    "\n",
    "# создадим когорты по рекламным источникам\n",
    "cohorts_sources=(users.groupby(dimensions2)\n",
    "              .agg({'source_id':'count','obtain_cost':'sum'}).round(2)\n",
    "              .rename(columns={'source_id':'cohort_size'}))"
   ]
  },
  {
   "cell_type": "code",
   "execution_count": 72,
   "metadata": {},
   "outputs": [],
   "source": [
    "# считаем ltv\n",
    "sources_ltv=orders.set_index('uid').join(users,how='left')[['obtain_month','source_id','device','order_month','revenue']]\n",
    "sources_ltv['order_month']=pd.to_datetime(sources_ltv['order_month'])\n",
    "sources_ltv['age']=((sources_ltv['order_month']-sources_ltv['obtain_month'])/np.timedelta64(1,'M')).round().astype('int')\n",
    "\n",
    "sources_ltv=sources_ltv.groupby(dimensions2 + ['age']).agg({'revenue':'sum'})\n",
    "\n",
    "sources_ltv=sources_ltv.pivot_table(index='source_id', columns='age',values='revenue',aggfunc='sum')\n",
    "sources_ltv=sources_ltv.cumsum(axis=1)\n",
    "sources_ltv=cohorts_sources[['cohort_size']].join(sources_ltv)\n",
    "sources_ltv=sources_ltv.div(sources_ltv['cohort_size'],axis=0).drop(columns=['cohort_size']).round(2)"
   ]
  },
  {
   "cell_type": "code",
   "execution_count": 73,
   "metadata": {},
   "outputs": [
    {
     "data": {
      "text/html": [
       "<div>\n",
       "<style scoped>\n",
       "    .dataframe tbody tr th:only-of-type {\n",
       "        vertical-align: middle;\n",
       "    }\n",
       "\n",
       "    .dataframe tbody tr th {\n",
       "        vertical-align: top;\n",
       "    }\n",
       "\n",
       "    .dataframe thead th {\n",
       "        text-align: right;\n",
       "    }\n",
       "</style>\n",
       "<table border=\"1\" class=\"dataframe\">\n",
       "  <thead>\n",
       "    <tr style=\"text-align: right;\">\n",
       "      <th></th>\n",
       "      <th>0</th>\n",
       "      <th>1</th>\n",
       "      <th>2</th>\n",
       "      <th>3</th>\n",
       "      <th>4</th>\n",
       "      <th>5</th>\n",
       "      <th>6</th>\n",
       "      <th>7</th>\n",
       "      <th>8</th>\n",
       "      <th>9</th>\n",
       "      <th>10</th>\n",
       "      <th>11</th>\n",
       "    </tr>\n",
       "    <tr>\n",
       "      <th>source_id</th>\n",
       "      <th></th>\n",
       "      <th></th>\n",
       "      <th></th>\n",
       "      <th></th>\n",
       "      <th></th>\n",
       "      <th></th>\n",
       "      <th></th>\n",
       "      <th></th>\n",
       "      <th></th>\n",
       "      <th></th>\n",
       "      <th></th>\n",
       "      <th></th>\n",
       "    </tr>\n",
       "  </thead>\n",
       "  <tbody>\n",
       "    <tr>\n",
       "      <td>1</td>\n",
       "      <td>1.53</td>\n",
       "      <td>1.81</td>\n",
       "      <td>2.00</td>\n",
       "      <td>2.29</td>\n",
       "      <td>2.47</td>\n",
       "      <td>2.59</td>\n",
       "      <td>2.68</td>\n",
       "      <td>2.92</td>\n",
       "      <td>3.05</td>\n",
       "      <td>3.14</td>\n",
       "      <td>3.23</td>\n",
       "      <td>3.28</td>\n",
       "    </tr>\n",
       "    <tr>\n",
       "      <td>2</td>\n",
       "      <td>1.02</td>\n",
       "      <td>1.36</td>\n",
       "      <td>1.70</td>\n",
       "      <td>2.07</td>\n",
       "      <td>2.25</td>\n",
       "      <td>2.39</td>\n",
       "      <td>2.46</td>\n",
       "      <td>2.51</td>\n",
       "      <td>2.55</td>\n",
       "      <td>2.60</td>\n",
       "      <td>2.64</td>\n",
       "      <td>2.66</td>\n",
       "    </tr>\n",
       "    <tr>\n",
       "      <td>3</td>\n",
       "      <td>0.57</td>\n",
       "      <td>0.66</td>\n",
       "      <td>0.70</td>\n",
       "      <td>0.73</td>\n",
       "      <td>0.76</td>\n",
       "      <td>0.78</td>\n",
       "      <td>0.80</td>\n",
       "      <td>0.81</td>\n",
       "      <td>0.81</td>\n",
       "      <td>0.82</td>\n",
       "      <td>0.82</td>\n",
       "      <td>0.82</td>\n",
       "    </tr>\n",
       "    <tr>\n",
       "      <td>4</td>\n",
       "      <td>0.52</td>\n",
       "      <td>0.58</td>\n",
       "      <td>0.61</td>\n",
       "      <td>0.64</td>\n",
       "      <td>0.66</td>\n",
       "      <td>0.69</td>\n",
       "      <td>0.72</td>\n",
       "      <td>0.73</td>\n",
       "      <td>0.74</td>\n",
       "      <td>0.76</td>\n",
       "      <td>0.77</td>\n",
       "      <td>0.78</td>\n",
       "    </tr>\n",
       "    <tr>\n",
       "      <td>5</td>\n",
       "      <td>0.58</td>\n",
       "      <td>0.65</td>\n",
       "      <td>0.70</td>\n",
       "      <td>0.92</td>\n",
       "      <td>0.95</td>\n",
       "      <td>1.00</td>\n",
       "      <td>1.02</td>\n",
       "      <td>1.04</td>\n",
       "      <td>1.05</td>\n",
       "      <td>1.06</td>\n",
       "      <td>1.07</td>\n",
       "      <td>1.07</td>\n",
       "    </tr>\n",
       "    <tr>\n",
       "      <td>6</td>\n",
       "      <td>NaN</td>\n",
       "      <td>NaN</td>\n",
       "      <td>NaN</td>\n",
       "      <td>NaN</td>\n",
       "      <td>NaN</td>\n",
       "      <td>NaN</td>\n",
       "      <td>NaN</td>\n",
       "      <td>NaN</td>\n",
       "      <td>NaN</td>\n",
       "      <td>NaN</td>\n",
       "      <td>NaN</td>\n",
       "      <td>NaN</td>\n",
       "    </tr>\n",
       "    <tr>\n",
       "      <td>7</td>\n",
       "      <td>0.04</td>\n",
       "      <td>NaN</td>\n",
       "      <td>NaN</td>\n",
       "      <td>NaN</td>\n",
       "      <td>NaN</td>\n",
       "      <td>NaN</td>\n",
       "      <td>NaN</td>\n",
       "      <td>NaN</td>\n",
       "      <td>NaN</td>\n",
       "      <td>NaN</td>\n",
       "      <td>NaN</td>\n",
       "      <td>NaN</td>\n",
       "    </tr>\n",
       "    <tr>\n",
       "      <td>9</td>\n",
       "      <td>0.37</td>\n",
       "      <td>0.47</td>\n",
       "      <td>0.55</td>\n",
       "      <td>0.63</td>\n",
       "      <td>0.70</td>\n",
       "      <td>0.74</td>\n",
       "      <td>0.78</td>\n",
       "      <td>0.81</td>\n",
       "      <td>0.86</td>\n",
       "      <td>0.88</td>\n",
       "      <td>0.89</td>\n",
       "      <td>0.89</td>\n",
       "    </tr>\n",
       "    <tr>\n",
       "      <td>10</td>\n",
       "      <td>0.51</td>\n",
       "      <td>0.56</td>\n",
       "      <td>0.58</td>\n",
       "      <td>0.59</td>\n",
       "      <td>0.61</td>\n",
       "      <td>0.62</td>\n",
       "      <td>0.64</td>\n",
       "      <td>0.64</td>\n",
       "      <td>0.64</td>\n",
       "      <td>0.64</td>\n",
       "      <td>0.64</td>\n",
       "      <td>0.64</td>\n",
       "    </tr>\n",
       "  </tbody>\n",
       "</table>\n",
       "</div>"
      ],
      "text/plain": [
       "             0     1     2     3     4     5     6     7     8     9     10  \\\n",
       "source_id                                                                     \n",
       "1          1.53  1.81  2.00  2.29  2.47  2.59  2.68  2.92  3.05  3.14  3.23   \n",
       "2          1.02  1.36  1.70  2.07  2.25  2.39  2.46  2.51  2.55  2.60  2.64   \n",
       "3          0.57  0.66  0.70  0.73  0.76  0.78  0.80  0.81  0.81  0.82  0.82   \n",
       "4          0.52  0.58  0.61  0.64  0.66  0.69  0.72  0.73  0.74  0.76  0.77   \n",
       "5          0.58  0.65  0.70  0.92  0.95  1.00  1.02  1.04  1.05  1.06  1.07   \n",
       "6           NaN   NaN   NaN   NaN   NaN   NaN   NaN   NaN   NaN   NaN   NaN   \n",
       "7          0.04   NaN   NaN   NaN   NaN   NaN   NaN   NaN   NaN   NaN   NaN   \n",
       "9          0.37  0.47  0.55  0.63  0.70  0.74  0.78  0.81  0.86  0.88  0.89   \n",
       "10         0.51  0.56  0.58  0.59  0.61  0.62  0.64  0.64  0.64  0.64  0.64   \n",
       "\n",
       "             11  \n",
       "source_id        \n",
       "1          3.28  \n",
       "2          2.66  \n",
       "3          0.82  \n",
       "4          0.78  \n",
       "5          1.07  \n",
       "6           NaN  \n",
       "7           NaN  \n",
       "9          0.89  \n",
       "10         0.64  "
      ]
     },
     "execution_count": 73,
     "metadata": {},
     "output_type": "execute_result"
    }
   ],
   "source": [
    "sources_ltv"
   ]
  },
  {
   "cell_type": "code",
   "execution_count": 74,
   "metadata": {},
   "outputs": [],
   "source": [
    "# добавим в когорты по рекламным источникам CAC\n",
    "cohorts_sources['cac']=cohorts_sources['obtain_cost']/cohorts_sources['cohort_size']"
   ]
  },
  {
   "cell_type": "code",
   "execution_count": 75,
   "metadata": {},
   "outputs": [],
   "source": [
    "# посчитаем Romi в разрезе рекламных источников\n",
    "sources_romi=sources_ltv.merge(cohorts_sources,on='source_id',how='left')\n",
    "\n",
    "sources_romi=sources_romi.div(sources_romi['cac'],axis=0).drop(columns=['cohort_size','cac','obtain_cost']).round(2)"
   ]
  },
  {
   "cell_type": "code",
   "execution_count": 76,
   "metadata": {},
   "outputs": [
    {
     "data": {
      "text/html": [
       "<div>\n",
       "<style scoped>\n",
       "    .dataframe tbody tr th:only-of-type {\n",
       "        vertical-align: middle;\n",
       "    }\n",
       "\n",
       "    .dataframe tbody tr th {\n",
       "        vertical-align: top;\n",
       "    }\n",
       "\n",
       "    .dataframe thead th {\n",
       "        text-align: right;\n",
       "    }\n",
       "</style>\n",
       "<table border=\"1\" class=\"dataframe\">\n",
       "  <thead>\n",
       "    <tr style=\"text-align: right;\">\n",
       "      <th></th>\n",
       "      <th>0</th>\n",
       "      <th>1</th>\n",
       "      <th>2</th>\n",
       "      <th>3</th>\n",
       "      <th>4</th>\n",
       "      <th>5</th>\n",
       "      <th>6</th>\n",
       "      <th>7</th>\n",
       "      <th>8</th>\n",
       "      <th>9</th>\n",
       "      <th>10</th>\n",
       "      <th>11</th>\n",
       "    </tr>\n",
       "    <tr>\n",
       "      <th>source_id</th>\n",
       "      <th></th>\n",
       "      <th></th>\n",
       "      <th></th>\n",
       "      <th></th>\n",
       "      <th></th>\n",
       "      <th></th>\n",
       "      <th></th>\n",
       "      <th></th>\n",
       "      <th></th>\n",
       "      <th></th>\n",
       "      <th></th>\n",
       "      <th></th>\n",
       "    </tr>\n",
       "  </thead>\n",
       "  <tbody>\n",
       "    <tr>\n",
       "      <td>1</td>\n",
       "      <td>0.70</td>\n",
       "      <td>0.82</td>\n",
       "      <td>0.91</td>\n",
       "      <td>1.04</td>\n",
       "      <td>1.12</td>\n",
       "      <td>1.18</td>\n",
       "      <td>1.22</td>\n",
       "      <td>1.33</td>\n",
       "      <td>1.39</td>\n",
       "      <td>1.43</td>\n",
       "      <td>1.47</td>\n",
       "      <td>1.49</td>\n",
       "    </tr>\n",
       "    <tr>\n",
       "      <td>2</td>\n",
       "      <td>0.42</td>\n",
       "      <td>0.56</td>\n",
       "      <td>0.70</td>\n",
       "      <td>0.85</td>\n",
       "      <td>0.93</td>\n",
       "      <td>0.98</td>\n",
       "      <td>1.01</td>\n",
       "      <td>1.03</td>\n",
       "      <td>1.05</td>\n",
       "      <td>1.07</td>\n",
       "      <td>1.09</td>\n",
       "      <td>1.09</td>\n",
       "    </tr>\n",
       "    <tr>\n",
       "      <td>3</td>\n",
       "      <td>0.27</td>\n",
       "      <td>0.31</td>\n",
       "      <td>0.33</td>\n",
       "      <td>0.34</td>\n",
       "      <td>0.36</td>\n",
       "      <td>0.36</td>\n",
       "      <td>0.37</td>\n",
       "      <td>0.38</td>\n",
       "      <td>0.38</td>\n",
       "      <td>0.38</td>\n",
       "      <td>0.38</td>\n",
       "      <td>0.38</td>\n",
       "    </tr>\n",
       "    <tr>\n",
       "      <td>4</td>\n",
       "      <td>0.62</td>\n",
       "      <td>0.69</td>\n",
       "      <td>0.72</td>\n",
       "      <td>0.76</td>\n",
       "      <td>0.78</td>\n",
       "      <td>0.82</td>\n",
       "      <td>0.85</td>\n",
       "      <td>0.86</td>\n",
       "      <td>0.88</td>\n",
       "      <td>0.90</td>\n",
       "      <td>0.91</td>\n",
       "      <td>0.92</td>\n",
       "    </tr>\n",
       "    <tr>\n",
       "      <td>5</td>\n",
       "      <td>0.55</td>\n",
       "      <td>0.62</td>\n",
       "      <td>0.67</td>\n",
       "      <td>0.88</td>\n",
       "      <td>0.90</td>\n",
       "      <td>0.95</td>\n",
       "      <td>0.97</td>\n",
       "      <td>0.99</td>\n",
       "      <td>1.00</td>\n",
       "      <td>1.01</td>\n",
       "      <td>1.02</td>\n",
       "      <td>1.02</td>\n",
       "    </tr>\n",
       "    <tr>\n",
       "      <td>6</td>\n",
       "      <td>NaN</td>\n",
       "      <td>NaN</td>\n",
       "      <td>NaN</td>\n",
       "      <td>NaN</td>\n",
       "      <td>NaN</td>\n",
       "      <td>NaN</td>\n",
       "      <td>NaN</td>\n",
       "      <td>NaN</td>\n",
       "      <td>NaN</td>\n",
       "      <td>NaN</td>\n",
       "      <td>NaN</td>\n",
       "      <td>NaN</td>\n",
       "    </tr>\n",
       "    <tr>\n",
       "      <td>7</td>\n",
       "      <td>inf</td>\n",
       "      <td>NaN</td>\n",
       "      <td>NaN</td>\n",
       "      <td>NaN</td>\n",
       "      <td>NaN</td>\n",
       "      <td>NaN</td>\n",
       "      <td>NaN</td>\n",
       "      <td>NaN</td>\n",
       "      <td>NaN</td>\n",
       "      <td>NaN</td>\n",
       "      <td>NaN</td>\n",
       "      <td>NaN</td>\n",
       "    </tr>\n",
       "    <tr>\n",
       "      <td>9</td>\n",
       "      <td>0.44</td>\n",
       "      <td>0.56</td>\n",
       "      <td>0.65</td>\n",
       "      <td>0.74</td>\n",
       "      <td>0.83</td>\n",
       "      <td>0.87</td>\n",
       "      <td>0.92</td>\n",
       "      <td>0.96</td>\n",
       "      <td>1.02</td>\n",
       "      <td>1.04</td>\n",
       "      <td>1.05</td>\n",
       "      <td>1.05</td>\n",
       "    </tr>\n",
       "    <tr>\n",
       "      <td>10</td>\n",
       "      <td>0.60</td>\n",
       "      <td>0.66</td>\n",
       "      <td>0.69</td>\n",
       "      <td>0.70</td>\n",
       "      <td>0.72</td>\n",
       "      <td>0.74</td>\n",
       "      <td>0.76</td>\n",
       "      <td>0.76</td>\n",
       "      <td>0.76</td>\n",
       "      <td>0.76</td>\n",
       "      <td>0.76</td>\n",
       "      <td>0.76</td>\n",
       "    </tr>\n",
       "  </tbody>\n",
       "</table>\n",
       "</div>"
      ],
      "text/plain": [
       "             0     1     2     3     4     5     6     7     8     9     10  \\\n",
       "source_id                                                                     \n",
       "1          0.70  0.82  0.91  1.04  1.12  1.18  1.22  1.33  1.39  1.43  1.47   \n",
       "2          0.42  0.56  0.70  0.85  0.93  0.98  1.01  1.03  1.05  1.07  1.09   \n",
       "3          0.27  0.31  0.33  0.34  0.36  0.36  0.37  0.38  0.38  0.38  0.38   \n",
       "4          0.62  0.69  0.72  0.76  0.78  0.82  0.85  0.86  0.88  0.90  0.91   \n",
       "5          0.55  0.62  0.67  0.88  0.90  0.95  0.97  0.99  1.00  1.01  1.02   \n",
       "6           NaN   NaN   NaN   NaN   NaN   NaN   NaN   NaN   NaN   NaN   NaN   \n",
       "7           inf   NaN   NaN   NaN   NaN   NaN   NaN   NaN   NaN   NaN   NaN   \n",
       "9          0.44  0.56  0.65  0.74  0.83  0.87  0.92  0.96  1.02  1.04  1.05   \n",
       "10         0.60  0.66  0.69  0.70  0.72  0.74  0.76  0.76  0.76  0.76  0.76   \n",
       "\n",
       "             11  \n",
       "source_id        \n",
       "1          1.49  \n",
       "2          1.09  \n",
       "3          0.38  \n",
       "4          0.92  \n",
       "5          1.02  \n",
       "6           NaN  \n",
       "7           NaN  \n",
       "9          1.05  \n",
       "10         0.76  "
      ]
     },
     "execution_count": 76,
     "metadata": {},
     "output_type": "execute_result"
    }
   ],
   "source": [
    "sources_romi"
   ]
  },
  {
   "cell_type": "markdown",
   "metadata": {},
   "source": [
    "Самые быстро окупаемые рекламные источники - 1 и 2"
   ]
  },
  {
   "cell_type": "markdown",
   "metadata": {},
   "source": [
    "### Шаг 3. Общий вывод"
   ]
  },
  {
   "cell_type": "markdown",
   "metadata": {},
   "source": [
    "<a id='15-bullet'></a>\n",
    "#### 3.1. Рекомендации маркетологам"
   ]
  },
  {
   "cell_type": "markdown",
   "metadata": {},
   "source": [
    "Лучше стараться привлекать новых десктопных пользователей - пользователи touch **не окупаются даже за год \"жизни\"**. Бюджет необходимо разделить между **1, 2 и 5** рекламными источниками, распределив большую часть между 1 и 2 - они достаточно быстро окупаются, а также пользователи пришедшие из этих источников **имеют большую длительность и частоту сессий**. "
   ]
  }
 ],
 "metadata": {
  "kernelspec": {
   "display_name": "Python 3",
   "language": "python",
   "name": "python3"
  },
  "language_info": {
   "codemirror_mode": {
    "name": "ipython",
    "version": 3
   },
   "file_extension": ".py",
   "mimetype": "text/x-python",
   "name": "python",
   "nbconvert_exporter": "python",
   "pygments_lexer": "ipython3",
   "version": "3.8.3"
  }
 },
 "nbformat": 4,
 "nbformat_minor": 2
}
